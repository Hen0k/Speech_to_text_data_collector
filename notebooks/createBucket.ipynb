{
 "cells": [
  {
   "cell_type": "code",
   "execution_count": 1,
   "id": "3cdaae35-1c05-4913-b805-2c9b2385e391",
   "metadata": {},
   "outputs": [
    {
     "name": "stdout",
     "output_type": "stream",
     "text": [
      "Requirement already satisfied: boto3 in /opt/miniconda/lib/python3.9/site-packages (1.18.37)\n",
      "Requirement already satisfied: jmespath<1.0.0,>=0.7.1 in /opt/miniconda/lib/python3.9/site-packages (from boto3) (0.10.0)\n",
      "Requirement already satisfied: s3transfer<0.6.0,>=0.5.0 in /opt/miniconda/lib/python3.9/site-packages (from boto3) (0.5.0)\n",
      "Requirement already satisfied: botocore<1.22.0,>=1.21.37 in /opt/miniconda/lib/python3.9/site-packages (from boto3) (1.21.37)\n",
      "Requirement already satisfied: urllib3<1.27,>=1.25.4 in /opt/miniconda/lib/python3.9/site-packages (from botocore<1.22.0,>=1.21.37->boto3) (1.26.6)\n",
      "Requirement already satisfied: python-dateutil<3.0.0,>=2.1 in /opt/miniconda/lib/python3.9/site-packages (from botocore<1.22.0,>=1.21.37->boto3) (2.8.1)\n",
      "Requirement already satisfied: six>=1.5 in /opt/miniconda/lib/python3.9/site-packages (from python-dateutil<3.0.0,>=2.1->botocore<1.22.0,>=1.21.37->boto3) (1.16.0)\n",
      "Note: you may need to restart the kernel to use updated packages.\n"
     ]
    }
   ],
   "source": [
    "!pip install boto3"
   ]
  },
  {
   "cell_type": "markdown",
   "id": "f07d18be-7c24-4d5c-83d7-d32fea74acb3",
   "metadata": {},
   "source": [
    "## Import libraries"
   ]
  },
  {
   "cell_type": "code",
   "execution_count": 6,
   "id": "f8d9b4cf-128a-4f59-8545-640ebdb6d870",
   "metadata": {},
   "outputs": [],
   "source": [
    "import logging\n",
    "import boto3\n",
    "from botocore.exceptions import ClientError"
   ]
  },
  {
   "cell_type": "code",
   "execution_count": 7,
   "id": "38370a5e-019c-4d7c-a2f2-edd7ade7d749",
   "metadata": {},
   "outputs": [],
   "source": [
    "# modified code from https://boto3.amazonaws.com/v1/documentation/api/latest/guide/s3-example-creating-buckets.html\n",
    "def create_bucket(bucket_name, region=None):\n",
    "    \"\"\"Create an S3 bucket in a specified region\n",
    "\n",
    "    If a region is not specified, the bucket is created in the S3 default\n",
    "    region (us-east-1).\n",
    "\n",
    "    :param bucket_name: Bucket to create\n",
    "    :param region: String region to create bucket in, e.g., 'us-west-2'\n",
    "    :return: True if bucket created, else False\n",
    "    \"\"\"\n",
    "\n",
    "    # Create bucket\n",
    "    try:\n",
    "        if region is None:\n",
    "            s3_client = boto3.client('s3')\n",
    "            s3_client.create_bucket(Bucket=bucket_name)\n",
    "        else:\n",
    "            s3_client = boto3.client('s3', region_name=region)\n",
    "            location = {'LocationConstraint': region}\n",
    "            s3_client.create_bucket(Bucket=bucket_name,\n",
    "                                    CreateBucketConfiguration=location)\n",
    "    except ClientError as e:\n",
    "        logging.error(e)\n",
    "        return False\n",
    "        # Retrieve the list of existing buckets\n",
    "    s3 = boto3.client('s3')\n",
    "    response = s3.list_buckets()\n",
    "\n",
    "    # Output the bucket names\n",
    "    bucks = {'all_buckets':[], 'created_bucket':None}\n",
    "    for bucket in response['Buckets']:\n",
    "        bucks['all_buckets'].append(bucket[\"Name\"])\n",
    "        if bucket[\"Name\"] == bucket_name:\n",
    "            bucks['created_bucket'] = bucket[\"Name\"] \n",
    "\n",
    "    return bucks"
   ]
  },
  {
   "cell_type": "markdown",
   "id": "fe561061-6d80-43bb-83c3-f8a65d8c4bfe",
   "metadata": {},
   "source": [
    "## create bucket"
   ]
  },
  {
   "cell_type": "code",
   "execution_count": 18,
   "id": "7ebab36d-f4ed-4d50-8707-40ba97d6bfd9",
   "metadata": {},
   "outputs": [
    {
     "data": {
      "text/plain": [
       "{'all_buckets': ['10ac-batch-4',\n",
       "  '10ac-courses-data',\n",
       "  '10ac-rocketchat-data',\n",
       "  '10ac-team',\n",
       "  '10academy-cim-stack',\n",
       "  '10academy-group2-bucket',\n",
       "  '10academy-moodle',\n",
       "  '10academy-stack-artifacts',\n",
       "  '10academy-upskill',\n",
       "  '10academy-website-assets',\n",
       "  '10xrocketchat',\n",
       "  'all-tenx-system-logs',\n",
       "  'benkart-bucket',\n",
       "  'cf-templates-1edpajnqlxs2r-eu-west-1',\n",
       "  'cf-templates-1edpajnqlxs2r-us-east-1',\n",
       "  'config-bucket-070096167435',\n",
       "  'covid19-ethrt',\n",
       "  'fumbabucket',\n",
       "  'group4-buckeabcdt',\n",
       "  'grouphu-text-bucket',\n",
       "  'jakinda-bucket',\n",
       "  'mora-bucket',\n",
       "  'morawetz-bucket',\n",
       "  'pcluster-workspace-10xbatch3',\n",
       "  'rocketchatbucket',\n",
       "  'sagemaker-project-p-etrw74ay35ub',\n",
       "  'sagemaker-studio-070096167435-xtuipnoh2k',\n",
       "  'stacker-bucket-stackerbucket-5vc331wsekn9',\n",
       "  'tutors-kafka'],\n",
       " 'created_bucket': 'benkart-bucket'}"
      ]
     },
     "execution_count": 18,
     "metadata": {},
     "output_type": "execute_result"
    }
   ],
   "source": [
    "create_bucket(bucket_name='benkart-bucket', region=None)"
   ]
  }
 ],
 "metadata": {
  "kernelspec": {
   "display_name": "Python [conda env:root] *",
   "language": "python",
   "name": "conda-root-py"
  },
  "language_info": {
   "codemirror_mode": {
    "name": "ipython",
    "version": 3
   },
   "file_extension": ".py",
   "mimetype": "text/x-python",
   "name": "python",
   "nbconvert_exporter": "python",
   "pygments_lexer": "ipython3",
   "version": "3.9.5"
  }
 },
 "nbformat": 4,
 "nbformat_minor": 5
}
