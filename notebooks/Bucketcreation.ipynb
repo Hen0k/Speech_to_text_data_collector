{
 "cells": [
  {
   "cell_type": "code",
   "execution_count": 7,
   "id": "3cdaae35-1c05-4913-b805-2c9b2385e391",
   "metadata": {},
   "outputs": [
    {
     "name": "stdout",
     "output_type": "stream",
     "text": [
      "Requirement already satisfied: boto3 in /home/tadesse_kebede/Speech_to_text-1/myenv1/lib/python3.7/site-packages (1.24.25)\n",
      "Requirement already satisfied: jmespath<2.0.0,>=0.7.1 in /home/tadesse_kebede/Speech_to_text-1/myenv1/lib/python3.7/site-packages (from boto3) (1.0.1)\n",
      "Requirement already satisfied: s3transfer<0.7.0,>=0.6.0 in /home/tadesse_kebede/Speech_to_text-1/myenv1/lib/python3.7/site-packages (from boto3) (0.6.0)\n",
      "Requirement already satisfied: botocore<1.28.0,>=1.27.25 in /home/tadesse_kebede/Speech_to_text-1/myenv1/lib/python3.7/site-packages (from boto3) (1.27.25)\n",
      "Requirement already satisfied: urllib3<1.27,>=1.25.4 in /home/tadesse_kebede/Speech_to_text-1/myenv1/lib/python3.7/site-packages (from botocore<1.28.0,>=1.27.25->boto3) (1.26.10)\n",
      "Requirement already satisfied: python-dateutil<3.0.0,>=2.1 in /home/tadesse_kebede/Speech_to_text-1/myenv1/lib/python3.7/site-packages (from botocore<1.28.0,>=1.27.25->boto3) (2.8.2)\n",
      "Requirement already satisfied: six>=1.5 in /home/tadesse_kebede/Speech_to_text-1/myenv1/lib/python3.7/site-packages (from python-dateutil<3.0.0,>=2.1->botocore<1.28.0,>=1.27.25->boto3) (1.16.0)\n"
     ]
    }
   ],
   "source": [
    "!pip install boto3"
   ]
  },
  {
   "cell_type": "markdown",
   "id": "f07d18be-7c24-4d5c-83d7-d32fea74acb3",
   "metadata": {},
   "source": [
    "## Import libraries"
   ]
  },
  {
   "cell_type": "code",
   "execution_count": 8,
   "id": "f8d9b4cf-128a-4f59-8545-640ebdb6d870",
   "metadata": {},
   "outputs": [],
   "source": [
    "import logging\n",
    "import boto3\n",
    "from botocore.exceptions import ClientError"
   ]
  },
  {
   "cell_type": "code",
   "execution_count": 9,
   "id": "38370a5e-019c-4d7c-a2f2-edd7ade7d749",
   "metadata": {},
   "outputs": [],
   "source": [
    "# modified code from https://boto3.amazonaws.com/v1/documentation/api/latest/guide/s3-example-creating-buckets.html\n",
    "def create_bucket(bucket_name, region=None):\n",
    "    \"\"\"Create an S3 bucket in a specified region\n",
    "\n",
    "    If a region is not specified, the bucket is created in the S3 default\n",
    "    region (us-east-1).\n",
    "\n",
    "    :param bucket_name: Bucket to create\n",
    "    :param region: String region to create bucket in, e.g., 'us-west-2'\n",
    "    :return: True if bucket created, else False\n",
    "    \"\"\"\n",
    "\n",
    "    # Create bucket\n",
    "    try:\n",
    "        if region is None:\n",
    "            s3_client = boto3.client('s3')\n",
    "            s3_client.create_bucket(Bucket=bucket_name)\n",
    "        else:\n",
    "            s3_client = boto3.client('s3', region_name=region)\n",
    "            location = {'LocationConstraint': region}\n",
    "            s3_client.create_bucket(Bucket=bucket_name,\n",
    "                                    CreateBucketConfiguration=location)\n",
    "    except ClientError as e:\n",
    "        logging.error(e)\n",
    "        return False\n",
    "        # Retrieve the list of existing buckets\n",
    "    s3 = boto3.client('s3')\n",
    "    response = s3.list_buckets()\n",
    "\n",
    "    # Output the bucket names\n",
    "    bucks = {'all_buckets':[], 'created_bucket':None}\n",
    "    for bucket in response['Buckets']:\n",
    "        bucks['all_buckets'].append(bucket[\"Name\"])\n",
    "        if bucket[\"Name\"] == bucket_name:\n",
    "            bucks['created_bucket'] = bucket[\"Name\"] \n",
    "\n",
    "    return bucks"
   ]
  },
  {
   "cell_type": "markdown",
   "id": "fe561061-6d80-43bb-83c3-f8a65d8c4bfe",
   "metadata": {},
   "source": [
    "## create bucket"
   ]
  },
  {
   "cell_type": "code",
   "execution_count": 10,
   "id": "7ebab36d-f4ed-4d50-8707-40ba97d6bfd9",
   "metadata": {},
   "outputs": [
    {
     "name": "stderr",
     "output_type": "stream",
     "text": [
      "ERROR:root:An error occurred (AccessDenied) when calling the CreateBucket operation: Access Denied\n"
     ]
    },
    {
     "data": {
      "text/plain": [
       "False"
      ]
     },
     "execution_count": 10,
     "metadata": {},
     "output_type": "execute_result"
    }
   ],
   "source": [
    "#Bucket creation\n",
    "create_bucket(bucket_name='benkart-bucket', region=None)"
   ]
  }
 ],
 "metadata": {
  "kernelspec": {
   "display_name": "Python 3.7.10 ('myenv1': venv)",
   "language": "python",
   "name": "python3"
  },
  "language_info": {
   "codemirror_mode": {
    "name": "ipython",
    "version": 3
   },
   "file_extension": ".py",
   "mimetype": "text/x-python",
   "name": "python",
   "nbconvert_exporter": "python",
   "pygments_lexer": "ipython3",
   "version": "3.7.10"
  },
  "vscode": {
   "interpreter": {
    "hash": "7ce9a84036b8b18091f0a9af32f2b7c2b715dfdaf4b4d606d08eabbc8a8c3135"
   }
  }
 },
 "nbformat": 4,
 "nbformat_minor": 5
}
