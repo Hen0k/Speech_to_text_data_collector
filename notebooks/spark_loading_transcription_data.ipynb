{
 "cells": [
  {
   "cell_type": "markdown",
   "id": "6582fb68",
   "metadata": {},
   "source": [
    "Import Libraries"
   ]
  },
  {
   "cell_type": "code",
   "execution_count": 12,
   "metadata": {},
   "outputs": [
    {
     "name": "stdout",
     "output_type": "stream",
     "text": [
      "22/07/08 12:38:53 WARN SparkSession: Using an existing Spark session; only runtime SQL configurations will take effect.\n"
     ]
    }
   ],
   "source": [
    "import os\n",
    "os.environ[\"JAVA_HOME\"]=\"/opt/jdk-18.0.1.1/\"\n",
    "from pyspark.sql import SparkSession\n",
    "spark = SparkSession.builder.appName('Benkart').getOrCreate()\n"
   ]
  },
  {
   "cell_type": "code",
   "execution_count": 13,
   "id": "923769e0",
   "metadata": {},
   "outputs": [
    {
     "name": "stdout",
     "output_type": "stream",
     "text": [
      "+--------+--------------------+\n",
      "|category|                text|\n",
      "+--------+--------------------+\n",
      "|    ስፖርት|ብርሃን ፈይሳየኢትዮጵያ ቦክ...|\n",
      "|    ስፖርት|የተሻለ ብቃት ያሳዩ ቦክሰኞ...|\n",
      "|    ስፖርት|በአጠቃላይ ክለቦቻቸውን ወክ...|\n",
      "|    ስፖርት|ይኸውም ተወዳዳሪዎችና አሰል...|\n",
      "|    ስፖርት|ኮቪድ 19 ዓለም አቀፍ ወረ...|\n",
      "|    ስፖርት|ከእነዚህ ውድድሮች መካከል ...|\n",
      "|    ስፖርት|ውድድሮች ወደ እንቅስቃሴ መ...|\n",
      "|    ስፖርት|ኢትዮጵያም በዚህ ቻምፒዮና ...|\n",
      "|    ስፖርት|ቻምፒዮናው ጥር 4/2013 ...|\n",
      "|    መዝናኛ|የአዲስ ዘመን ጋዜጣ ቀደምት...|\n",
      "|    መዝናኛ|እኛም ከእነዚህ ዘገባዎች ጋ...|\n",
      "|    መዝናኛ|በሲዳሞ ጠ/ግዛት ዋና ከተማ...|\n",
      "|    መዝናኛ|የተቋቋመውም በትልቁ መኪና ...|\n",
      "|    መዝናኛ|ስለ ታላላቅ መኪናዎች ግን ...|\n",
      "|    መዝናኛ|       አቧራ አዋዜ አይደለም|\n",
      "|    መዝናኛ|ስለ የውስጥ ዕቃውም አጠባበ...|\n",
      "|    መዝናኛ|ይኸውም ሆኖ ለሥራው የተመጠ...|\n",
      "|    መዝናኛ|ስለዚህ ጓደኞቹን እንዲመስል...|\n",
      "|    መዝናኛ|የደብረ ታቦር አውራጃ አዣን...|\n",
      "|    ስፖርት|በርካታ አንጋፋ አትሌቶች በ...|\n",
      "+--------+--------------------+\n",
      "only showing top 20 rows\n",
      "\n"
     ]
    }
   ],
   "source": [
    "df=spark.read.csv('../data/transcription_text.csv',header=True)\n",
    "df.show()"
   ]
  },
  {
   "cell_type": "code",
   "execution_count": 14,
   "id": "a9a72137",
   "metadata": {},
   "outputs": [
    {
     "name": "stdout",
     "output_type": "stream",
     "text": [
      "root\n",
      " |-- category: string (nullable = true)\n",
      " |-- text: string (nullable = true)\n",
      "\n",
      "+--------+--------------------+\n",
      "|category|                text|\n",
      "+--------+--------------------+\n",
      "|    ስፖርት|ብርሃን ፈይሳየኢትዮጵያ ቦክ...|\n",
      "|    ስፖርት|የተሻለ ብቃት ያሳዩ ቦክሰኞ...|\n",
      "|    ስፖርት|በአጠቃላይ ክለቦቻቸውን ወክ...|\n",
      "|    ስፖርት|ይኸውም ተወዳዳሪዎችና አሰል...|\n",
      "|    ስፖርት|ኮቪድ 19 ዓለም አቀፍ ወረ...|\n",
      "|    ስፖርት|ከእነዚህ ውድድሮች መካከል ...|\n",
      "|    ስፖርት|ውድድሮች ወደ እንቅስቃሴ መ...|\n",
      "|    ስፖርት|ኢትዮጵያም በዚህ ቻምፒዮና ...|\n",
      "|    ስፖርት|ቻምፒዮናው ጥር 4/2013 ...|\n",
      "|    መዝናኛ|የአዲስ ዘመን ጋዜጣ ቀደምት...|\n",
      "|    መዝናኛ|እኛም ከእነዚህ ዘገባዎች ጋ...|\n",
      "|    መዝናኛ|በሲዳሞ ጠ/ግዛት ዋና ከተማ...|\n",
      "|    መዝናኛ|የተቋቋመውም በትልቁ መኪና ...|\n",
      "|    መዝናኛ|ስለ ታላላቅ መኪናዎች ግን ...|\n",
      "|    መዝናኛ|       አቧራ አዋዜ አይደለም|\n",
      "|    መዝናኛ|ስለ የውስጥ ዕቃውም አጠባበ...|\n",
      "|    መዝናኛ|ይኸውም ሆኖ ለሥራው የተመጠ...|\n",
      "|    መዝናኛ|ስለዚህ ጓደኞቹን እንዲመስል...|\n",
      "|    መዝናኛ|የደብረ ታቦር አውራጃ አዣን...|\n",
      "|    ስፖርት|በርካታ አንጋፋ አትሌቶች በ...|\n",
      "+--------+--------------------+\n",
      "only showing top 20 rows\n",
      "\n"
     ]
    }
   ],
   "source": [
    "#Create PySpark DataFrame from padas to spark\n",
    "df.printSchema()\n",
    "df.show()"
   ]
  }
 ],
 "metadata": {
  "kernelspec": {
   "display_name": "Python 3.7.10 ('myenv1': venv)",
   "language": "python",
   "name": "python3"
  },
  "language_info": {
   "codemirror_mode": {
    "name": "ipython",
    "version": 3
   },
   "file_extension": ".py",
   "mimetype": "text/x-python",
   "name": "python",
   "nbconvert_exporter": "python",
   "pygments_lexer": "ipython3",
   "version": "3.7.10"
  },
  "vscode": {
   "interpreter": {
    "hash": "7ce9a84036b8b18091f0a9af32f2b7c2b715dfdaf4b4d606d08eabbc8a8c3135"
   }
  }
 },
 "nbformat": 4,
 "nbformat_minor": 5
}
