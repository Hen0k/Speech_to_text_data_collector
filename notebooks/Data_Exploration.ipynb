{
 "cells": [
  {
   "cell_type": "code",
   "execution_count": 1,
   "id": "c222e058",
   "metadata": {},
   "outputs": [],
   "source": [
    "%matplotlib inline\n",
    "\n",
    "import matplotlib\n",
    "import pandas as pd\n",
    "import numpy as np\n",
    "\n",
    "np.random.seed(42) "
   ]
  },
  {
   "cell_type": "code",
   "execution_count": 2,
   "id": "d635325e",
   "metadata": {},
   "outputs": [],
   "source": [
    "data = pd.read_csv('../data/Amharic_News_Dataset.csv')"
   ]
  },
  {
   "cell_type": "code",
   "execution_count": 3,
   "id": "096b4971",
   "metadata": {},
   "outputs": [
    {
     "data": {
      "text/html": [
       "<div>\n",
       "<style scoped>\n",
       "    .dataframe tbody tr th:only-of-type {\n",
       "        vertical-align: middle;\n",
       "    }\n",
       "\n",
       "    .dataframe tbody tr th {\n",
       "        vertical-align: top;\n",
       "    }\n",
       "\n",
       "    .dataframe thead th {\n",
       "        text-align: right;\n",
       "    }\n",
       "</style>\n",
       "<table border=\"1\" class=\"dataframe\">\n",
       "  <thead>\n",
       "    <tr style=\"text-align: right;\">\n",
       "      <th></th>\n",
       "      <th>headline</th>\n",
       "      <th>category</th>\n",
       "      <th>date</th>\n",
       "      <th>views</th>\n",
       "      <th>article</th>\n",
       "      <th>link</th>\n",
       "    </tr>\n",
       "  </thead>\n",
       "  <tbody>\n",
       "    <tr>\n",
       "      <th>0</th>\n",
       "      <td>የኦሊምፒክ ማጣሪያ ተሳታፊዎች የሚለዩበት ቻምፒዮና እየተካሄደ ይገኛል</td>\n",
       "      <td>ስፖርት</td>\n",
       "      <td>January 14, 2021</td>\n",
       "      <td>2</td>\n",
       "      <td>ብርሃን ፈይሳየኢትዮጵያ ቦክስ ፌዴሬሽን በየዓመቱ የሚያዘጋጀው የክለቦች ቻ...</td>\n",
       "      <td>https://www.press.et/Ama/?p=39481</td>\n",
       "    </tr>\n",
       "    <tr>\n",
       "      <th>1</th>\n",
       "      <td>አዲስ ዘመን ድሮ</td>\n",
       "      <td>መዝናኛ</td>\n",
       "      <td>December 28, 2020</td>\n",
       "      <td>4</td>\n",
       "      <td>የአዲስ ዘመን ጋዜጣ ቀደምት ዘገባዎች በእጅጉ ተነባቢ ዛሬም ላገኛቸው በ...</td>\n",
       "      <td>https://www.press.et/Ama/?p=38334</td>\n",
       "    </tr>\n",
       "    <tr>\n",
       "      <th>2</th>\n",
       "      <td>የአረንጓዴ ጎርፍ በጎ አድራጎት አምባሳደሮች ተሰየሙ</td>\n",
       "      <td>ስፖርት</td>\n",
       "      <td>January 6, 2021</td>\n",
       "      <td>6</td>\n",
       "      <td>ቦጋለ አበበየአዲስ አበባ ከተማ አስተዳደር ስፖርት ኮሚሽን ከኢትዮጵያ አረ...</td>\n",
       "      <td>https://www.press.et/Ama/?p=39010</td>\n",
       "    </tr>\n",
       "    <tr>\n",
       "      <th>3</th>\n",
       "      <td>የሊጉ በቢዝነስ ሞዴል መመራት አበረታች ጅምር መሆኑ ተገለጸ</td>\n",
       "      <td>ስፖርት</td>\n",
       "      <td>January 6, 2021</td>\n",
       "      <td>5</td>\n",
       "      <td>ብርሃን ፈይሳአዲስ አበባ፡- የኢትዮጵያ ፕሪምየር ሊግ በሼር ካምፓኒ እንዲ...</td>\n",
       "      <td>https://www.press.et/Ama/?p=39011</td>\n",
       "    </tr>\n",
       "    <tr>\n",
       "      <th>4</th>\n",
       "      <td>የኦሊምፒክ ሥራ አስፈፃሚው እስከ ቶኪዮ ኦሊምፒክ ማግስት ይቀጥላል</td>\n",
       "      <td>ስፖርት</td>\n",
       "      <td>January 6, 2021</td>\n",
       "      <td>12</td>\n",
       "      <td>ቦጋለ አበበ የኢትዮጵያ ኦሊምፒክ ኮሚቴ አርባ አምስተኛ መደበኛ ጠቅላላ ጉ...</td>\n",
       "      <td>https://www.press.et/Ama/?p=39012</td>\n",
       "    </tr>\n",
       "  </tbody>\n",
       "</table>\n",
       "</div>"
      ],
      "text/plain": [
       "                                      headline category               date  \\\n",
       "0  የኦሊምፒክ ማጣሪያ ተሳታፊዎች የሚለዩበት ቻምፒዮና እየተካሄደ ይገኛል     ስፖርት   January 14, 2021   \n",
       "1                                   አዲስ ዘመን ድሮ     መዝናኛ  December 28, 2020   \n",
       "2             የአረንጓዴ ጎርፍ በጎ አድራጎት አምባሳደሮች ተሰየሙ     ስፖርት    January 6, 2021   \n",
       "3        የሊጉ በቢዝነስ ሞዴል መመራት አበረታች ጅምር መሆኑ ተገለጸ     ስፖርት    January 6, 2021   \n",
       "4    የኦሊምፒክ ሥራ አስፈፃሚው እስከ ቶኪዮ ኦሊምፒክ ማግስት ይቀጥላል     ስፖርት    January 6, 2021   \n",
       "\n",
       "  views                                            article  \\\n",
       "0     2  ብርሃን ፈይሳየኢትዮጵያ ቦክስ ፌዴሬሽን በየዓመቱ የሚያዘጋጀው የክለቦች ቻ...   \n",
       "1     4   የአዲስ ዘመን ጋዜጣ ቀደምት ዘገባዎች በእጅጉ ተነባቢ ዛሬም ላገኛቸው በ...   \n",
       "2     6  ቦጋለ አበበየአዲስ አበባ ከተማ አስተዳደር ስፖርት ኮሚሽን ከኢትዮጵያ አረ...   \n",
       "3     5  ብርሃን ፈይሳአዲስ አበባ፡- የኢትዮጵያ ፕሪምየር ሊግ በሼር ካምፓኒ እንዲ...   \n",
       "4    12  ቦጋለ አበበ የኢትዮጵያ ኦሊምፒክ ኮሚቴ አርባ አምስተኛ መደበኛ ጠቅላላ ጉ...   \n",
       "\n",
       "                                link  \n",
       "0  https://www.press.et/Ama/?p=39481  \n",
       "1  https://www.press.et/Ama/?p=38334  \n",
       "2  https://www.press.et/Ama/?p=39010  \n",
       "3  https://www.press.et/Ama/?p=39011  \n",
       "4  https://www.press.et/Ama/?p=39012  "
      ]
     },
     "execution_count": 3,
     "metadata": {},
     "output_type": "execute_result"
    }
   ],
   "source": [
    "data.head()"
   ]
  },
  {
   "cell_type": "code",
   "execution_count": 4,
   "id": "9789a116",
   "metadata": {},
   "outputs": [
    {
     "name": "stdout",
     "output_type": "stream",
     "text": [
      "<class 'pandas.core.frame.DataFrame'>\n",
      "RangeIndex: 51483 entries, 0 to 51482\n",
      "Data columns (total 6 columns):\n",
      " #   Column    Non-Null Count  Dtype \n",
      "---  ------    --------------  ----- \n",
      " 0   headline  51470 non-null  object\n",
      " 1   category  51482 non-null  object\n",
      " 2   date      51483 non-null  object\n",
      " 3   views     51483 non-null  object\n",
      " 4   article   51483 non-null  object\n",
      " 5   link      51483 non-null  object\n",
      "dtypes: object(6)\n",
      "memory usage: 2.4+ MB\n"
     ]
    }
   ],
   "source": [
    "data.info()"
   ]
  },
  {
   "cell_type": "code",
   "execution_count": 5,
   "id": "940a12a2",
   "metadata": {},
   "outputs": [],
   "source": [
    "data = data.dropna(subset=['article'])"
   ]
  },
  {
   "cell_type": "code",
   "execution_count": 6,
   "id": "ee33afdd",
   "metadata": {},
   "outputs": [
    {
     "data": {
      "text/plain": [
       "https://amharic.voanews.com//a/london-marathon/5608398.html                                                                                                                                                                      3\n",
       "https://amharic.voanews.com//a/ethiopia-tigrai-mekele/5679989.html                                                                                                                                                               3\n",
       "https://amharic.voanews.com//a/ethiopia-political-crisis-tplf-and-adp-voa-crossfire-alula-kebede-july-2019/4998828.html                                                                                                          3\n",
       "https://amharic.voanews.com//a/bale-roba-road-closure/5461608.html                                                                                                                                                               3\n",
       "https://amharic.voanews.com//a/covid-main/5443343.html                                                                                                                                                                           3\n",
       "                                                                                                                                                                                                                                ..\n",
       "https://www.fanabc.com/%e1%89%a3%e1%88%88%e1%8d%89%e1%89%b5-24-%e1%88%b0%e1%8b%93%e1%89%b3%e1%89%b5-%e1%88%881-%e1%88%ba%e1%88%85-758-%e1%88%b0%e1%8b%8e%e1%89%bd-%e1%8b%a8%e1%88%8b%e1%89%a6%e1%88%ab%e1%89%b6%e1%88%aa/        1\n",
       "https://www.fanabc.com/%e1%89%a0%e1%8c%8e%e1%8d%8b-%e1%8b%9e%e1%8a%95-4-%e1%88%b0%e1%8b%8e%e1%89%bd-%e1%89%a0%e1%8b%b0%e1%88%ab%e1%88%bd-%e1%8b%8d%e1%88%80-%e1%89%b0%e1%8b%88%e1%88%b5%e1%8b%b0%e1%8b%8d-%e1%88%85%e1%8b%ad/    1\n",
       "https://www.fanabc.com/%e1%8a%a2%e1%8a%95%e1%8c%82%e1%8a%90%e1%88%ad-%e1%89%b3%e1%8a%a8%e1%88%88-%e1%8a%a1%e1%88%9b-%e1%8a%a8%e1%88%80%e1%8b%ad%e1%88%9b%e1%8a%96%e1%89%b5-%e1%8a%a0%e1%89%a3%e1%89%b6%e1%89%bd-%e1%8c%8b/       1\n",
       "https://www.fanabc.com/%e1%8c%a0-%e1%88%9a-%e1%8b%90%e1%89%a2%e1%8b%ad-%e1%8a%a8%e1%8d%95%e1%88%ac%e1%8b%9a%e1%8b%b3%e1%8a%95%e1%89%b5-%e1%8a%a2%e1%88%b3%e1%8b%ab%e1%88%b5-%e1%8a%a0%e1%8d%88%e1%8b%88%e1%88%ad%e1%89%82-2/     1\n",
       "https://waltainfo.com/am/32586/                                                                                                                                                                                                  1\n",
       "Name: link, Length: 50778, dtype: int64"
      ]
     },
     "execution_count": 6,
     "metadata": {},
     "output_type": "execute_result"
    }
   ],
   "source": [
    "data['link'].value_counts()"
   ]
  },
  {
   "cell_type": "code",
   "execution_count": 7,
   "id": "4e550b0e",
   "metadata": {},
   "outputs": [
    {
     "data": {
      "text/html": [
       "<div>\n",
       "<style scoped>\n",
       "    .dataframe tbody tr th:only-of-type {\n",
       "        vertical-align: middle;\n",
       "    }\n",
       "\n",
       "    .dataframe tbody tr th {\n",
       "        vertical-align: top;\n",
       "    }\n",
       "\n",
       "    .dataframe thead th {\n",
       "        text-align: right;\n",
       "    }\n",
       "</style>\n",
       "<table border=\"1\" class=\"dataframe\">\n",
       "  <thead>\n",
       "    <tr style=\"text-align: right;\">\n",
       "      <th></th>\n",
       "      <th>headline</th>\n",
       "      <th>category</th>\n",
       "      <th>date</th>\n",
       "      <th>views</th>\n",
       "      <th>article</th>\n",
       "      <th>link</th>\n",
       "      <th>word_len</th>\n",
       "    </tr>\n",
       "  </thead>\n",
       "  <tbody>\n",
       "    <tr>\n",
       "      <th>0</th>\n",
       "      <td>የኦሊምፒክ ማጣሪያ ተሳታፊዎች የሚለዩበት ቻምፒዮና እየተካሄደ ይገኛል</td>\n",
       "      <td>ስፖርት</td>\n",
       "      <td>January 14, 2021</td>\n",
       "      <td>2</td>\n",
       "      <td>ብርሃን ፈይሳየኢትዮጵያ ቦክስ ፌዴሬሽን በየዓመቱ የሚያዘጋጀው የክለቦች ቻ...</td>\n",
       "      <td>https://www.press.et/Ama/?p=39481</td>\n",
       "      <td>298</td>\n",
       "    </tr>\n",
       "    <tr>\n",
       "      <th>1</th>\n",
       "      <td>አዲስ ዘመን ድሮ</td>\n",
       "      <td>መዝናኛ</td>\n",
       "      <td>December 28, 2020</td>\n",
       "      <td>4</td>\n",
       "      <td>የአዲስ ዘመን ጋዜጣ ቀደምት ዘገባዎች በእጅጉ ተነባቢ ዛሬም ላገኛቸው በ...</td>\n",
       "      <td>https://www.press.et/Ama/?p=38334</td>\n",
       "      <td>475</td>\n",
       "    </tr>\n",
       "    <tr>\n",
       "      <th>2</th>\n",
       "      <td>የአረንጓዴ ጎርፍ በጎ አድራጎት አምባሳደሮች ተሰየሙ</td>\n",
       "      <td>ስፖርት</td>\n",
       "      <td>January 6, 2021</td>\n",
       "      <td>6</td>\n",
       "      <td>ቦጋለ አበበየአዲስ አበባ ከተማ አስተዳደር ስፖርት ኮሚሽን ከኢትዮጵያ አረ...</td>\n",
       "      <td>https://www.press.et/Ama/?p=39010</td>\n",
       "      <td>265</td>\n",
       "    </tr>\n",
       "    <tr>\n",
       "      <th>3</th>\n",
       "      <td>የሊጉ በቢዝነስ ሞዴል መመራት አበረታች ጅምር መሆኑ ተገለጸ</td>\n",
       "      <td>ስፖርት</td>\n",
       "      <td>January 6, 2021</td>\n",
       "      <td>5</td>\n",
       "      <td>ብርሃን ፈይሳአዲስ አበባ፡- የኢትዮጵያ ፕሪምየር ሊግ በሼር ካምፓኒ እንዲ...</td>\n",
       "      <td>https://www.press.et/Ama/?p=39011</td>\n",
       "      <td>296</td>\n",
       "    </tr>\n",
       "    <tr>\n",
       "      <th>4</th>\n",
       "      <td>የኦሊምፒክ ሥራ አስፈፃሚው እስከ ቶኪዮ ኦሊምፒክ ማግስት ይቀጥላል</td>\n",
       "      <td>ስፖርት</td>\n",
       "      <td>January 6, 2021</td>\n",
       "      <td>12</td>\n",
       "      <td>ቦጋለ አበበ የኢትዮጵያ ኦሊምፒክ ኮሚቴ አርባ አምስተኛ መደበኛ ጠቅላላ ጉ...</td>\n",
       "      <td>https://www.press.et/Ama/?p=39012</td>\n",
       "      <td>476</td>\n",
       "    </tr>\n",
       "  </tbody>\n",
       "</table>\n",
       "</div>"
      ],
      "text/plain": [
       "                                      headline category               date  \\\n",
       "0  የኦሊምፒክ ማጣሪያ ተሳታፊዎች የሚለዩበት ቻምፒዮና እየተካሄደ ይገኛል     ስፖርት   January 14, 2021   \n",
       "1                                   አዲስ ዘመን ድሮ     መዝናኛ  December 28, 2020   \n",
       "2             የአረንጓዴ ጎርፍ በጎ አድራጎት አምባሳደሮች ተሰየሙ     ስፖርት    January 6, 2021   \n",
       "3        የሊጉ በቢዝነስ ሞዴል መመራት አበረታች ጅምር መሆኑ ተገለጸ     ስፖርት    January 6, 2021   \n",
       "4    የኦሊምፒክ ሥራ አስፈፃሚው እስከ ቶኪዮ ኦሊምፒክ ማግስት ይቀጥላል     ስፖርት    January 6, 2021   \n",
       "\n",
       "  views                                            article  \\\n",
       "0     2  ብርሃን ፈይሳየኢትዮጵያ ቦክስ ፌዴሬሽን በየዓመቱ የሚያዘጋጀው የክለቦች ቻ...   \n",
       "1     4   የአዲስ ዘመን ጋዜጣ ቀደምት ዘገባዎች በእጅጉ ተነባቢ ዛሬም ላገኛቸው በ...   \n",
       "2     6  ቦጋለ አበበየአዲስ አበባ ከተማ አስተዳደር ስፖርት ኮሚሽን ከኢትዮጵያ አረ...   \n",
       "3     5  ብርሃን ፈይሳአዲስ አበባ፡- የኢትዮጵያ ፕሪምየር ሊግ በሼር ካምፓኒ እንዲ...   \n",
       "4    12  ቦጋለ አበበ የኢትዮጵያ ኦሊምፒክ ኮሚቴ አርባ አምስተኛ መደበኛ ጠቅላላ ጉ...   \n",
       "\n",
       "                                link  word_len  \n",
       "0  https://www.press.et/Ama/?p=39481       298  \n",
       "1  https://www.press.et/Ama/?p=38334       475  \n",
       "2  https://www.press.et/Ama/?p=39010       265  \n",
       "3  https://www.press.et/Ama/?p=39011       296  \n",
       "4  https://www.press.et/Ama/?p=39012       476  "
      ]
     },
     "execution_count": 7,
     "metadata": {},
     "output_type": "execute_result"
    }
   ],
   "source": [
    "data['word_len'] = data['article'].str.split().str.len()\n",
    "data.head()"
   ]
  },
  {
   "cell_type": "code",
   "execution_count": 8,
   "id": "291e5460",
   "metadata": {},
   "outputs": [
    {
     "name": "stdout",
     "output_type": "stream",
     "text": [
      "<class 'pandas.core.frame.DataFrame'>\n",
      "Int64Index: 51483 entries, 0 to 51482\n",
      "Data columns (total 7 columns):\n",
      " #   Column    Non-Null Count  Dtype \n",
      "---  ------    --------------  ----- \n",
      " 0   headline  51470 non-null  object\n",
      " 1   category  51482 non-null  object\n",
      " 2   date      51483 non-null  object\n",
      " 3   views     51483 non-null  object\n",
      " 4   article   51483 non-null  object\n",
      " 5   link      51483 non-null  object\n",
      " 6   word_len  51483 non-null  int64 \n",
      "dtypes: int64(1), object(6)\n",
      "memory usage: 3.1+ MB\n"
     ]
    }
   ],
   "source": [
    "data.info()"
   ]
  },
  {
   "cell_type": "code",
   "execution_count": 9,
   "id": "ec1d02f2",
   "metadata": {},
   "outputs": [
    {
     "data": {
      "text/plain": [
       "248.9586853912942"
      ]
     },
     "execution_count": 9,
     "metadata": {},
     "output_type": "execute_result"
    }
   ],
   "source": [
    "data.word_len.mean()"
   ]
  },
  {
   "cell_type": "code",
   "execution_count": 11,
   "id": "bf3c35c5",
   "metadata": {},
   "outputs": [
    {
     "data": {
      "text/html": [
       "<div>\n",
       "<style scoped>\n",
       "    .dataframe tbody tr th:only-of-type {\n",
       "        vertical-align: middle;\n",
       "    }\n",
       "\n",
       "    .dataframe tbody tr th {\n",
       "        vertical-align: top;\n",
       "    }\n",
       "\n",
       "    .dataframe thead th {\n",
       "        text-align: right;\n",
       "    }\n",
       "</style>\n",
       "<table border=\"1\" class=\"dataframe\">\n",
       "  <thead>\n",
       "    <tr style=\"text-align: right;\">\n",
       "      <th></th>\n",
       "      <th>article</th>\n",
       "      <th>category</th>\n",
       "    </tr>\n",
       "  </thead>\n",
       "  <tbody>\n",
       "    <tr>\n",
       "      <th>0</th>\n",
       "      <td>ብርሃን ፈይሳየኢትዮጵያ ቦክስ ፌዴሬሽን በየዓመቱ የሚያዘጋጀው የክለቦች ቻ...</td>\n",
       "      <td>ስፖርት</td>\n",
       "    </tr>\n",
       "    <tr>\n",
       "      <th>1</th>\n",
       "      <td>የአዲስ ዘመን ጋዜጣ ቀደምት ዘገባዎች በእጅጉ ተነባቢ ዛሬም ላገኛቸው በ...</td>\n",
       "      <td>መዝናኛ</td>\n",
       "    </tr>\n",
       "    <tr>\n",
       "      <th>2</th>\n",
       "      <td>ቦጋለ አበበየአዲስ አበባ ከተማ አስተዳደር ስፖርት ኮሚሽን ከኢትዮጵያ አረ...</td>\n",
       "      <td>ስፖርት</td>\n",
       "    </tr>\n",
       "    <tr>\n",
       "      <th>3</th>\n",
       "      <td>ብርሃን ፈይሳአዲስ አበባ፡- የኢትዮጵያ ፕሪምየር ሊግ በሼር ካምፓኒ እንዲ...</td>\n",
       "      <td>ስፖርት</td>\n",
       "    </tr>\n",
       "    <tr>\n",
       "      <th>4</th>\n",
       "      <td>ቦጋለ አበበ የኢትዮጵያ ኦሊምፒክ ኮሚቴ አርባ አምስተኛ መደበኛ ጠቅላላ ጉ...</td>\n",
       "      <td>ስፖርት</td>\n",
       "    </tr>\n",
       "    <tr>\n",
       "      <th>5</th>\n",
       "      <td>ብርሃን ፈይሳ አዲስ አበባ፡- እንደ ሃገር እየታዩ ያሉትን ስብራቶችና ች...</td>\n",
       "      <td>ስፖርት</td>\n",
       "    </tr>\n",
       "    <tr>\n",
       "      <th>6</th>\n",
       "      <td>ብርሃን ፈይሳ አዲስ አበባ፡- ስፖርታዊ እንቅስቃሴና ውድድሮች በሚከናወኑበ...</td>\n",
       "      <td>ስፖርት</td>\n",
       "    </tr>\n",
       "    <tr>\n",
       "      <th>7</th>\n",
       "      <td>ቦጋለ አበበ‹‹ስፖርትና ፖለቲካ አንድ ናቸው ወይም ጠንካራ ግንኙነት አላቸ...</td>\n",
       "      <td>ስፖርት</td>\n",
       "    </tr>\n",
       "    <tr>\n",
       "      <th>8</th>\n",
       "      <td>ቦጋለ አበበ በኮቪድ-19 ወረርሽኝ ምክንያት የዓለም ማህበራዊ፣ ፖለቲካዊና...</td>\n",
       "      <td>ስፖርት</td>\n",
       "    </tr>\n",
       "    <tr>\n",
       "      <th>9</th>\n",
       "      <td>ኧሯ! እንዴት ሆኖ እንዴት ሆኖ እኛንማ አይደፍርም! ብለን ነበር ደፈረን...</td>\n",
       "      <td>መዝናኛ</td>\n",
       "    </tr>\n",
       "    <tr>\n",
       "      <th>10</th>\n",
       "      <td>ቦጋለ አበበ ምዕራብ አፍሪካዊቷ አገር ኮትዲቯር የ2023 አፍሪካ ዋንጫን...</td>\n",
       "      <td>ስፖርት</td>\n",
       "    </tr>\n",
       "    <tr>\n",
       "      <th>11</th>\n",
       "      <td>ብርሃን ፈይሳወቅቱ የስፖርት ማዘውተሪያ ስፍራዎች ግንባታ በዓለም አቀፍ ደ...</td>\n",
       "      <td>ስፖርት</td>\n",
       "    </tr>\n",
       "    <tr>\n",
       "      <th>12</th>\n",
       "      <td>አስቴር ኤልያስስፍራው ሞቃታማ ቢሆንም ቅጥር ጊቢው ግን በቡና ችግኞችና በ...</td>\n",
       "      <td>ሀገር አቀፍ ዜና</td>\n",
       "    </tr>\n",
       "    <tr>\n",
       "      <th>13</th>\n",
       "      <td>ቦጋለ አበበ ጃፓን ከሰባት ዓመታት በላይ ብዙ የለፋችበት የቶኪዮ 2020 ...</td>\n",
       "      <td>ስፖርት</td>\n",
       "    </tr>\n",
       "    <tr>\n",
       "      <th>14</th>\n",
       "      <td>ብርሃን ፈይሳ አዲስ አበባ፡- ብሄራዊ የስፖርት ምክር ቤት ነገ የመጀመሪያ...</td>\n",
       "      <td>ስፖርት</td>\n",
       "    </tr>\n",
       "  </tbody>\n",
       "</table>\n",
       "</div>"
      ],
      "text/plain": [
       "                                              article    category\n",
       "0   ብርሃን ፈይሳየኢትዮጵያ ቦክስ ፌዴሬሽን በየዓመቱ የሚያዘጋጀው የክለቦች ቻ...        ስፖርት\n",
       "1    የአዲስ ዘመን ጋዜጣ ቀደምት ዘገባዎች በእጅጉ ተነባቢ ዛሬም ላገኛቸው በ...        መዝናኛ\n",
       "2   ቦጋለ አበበየአዲስ አበባ ከተማ አስተዳደር ስፖርት ኮሚሽን ከኢትዮጵያ አረ...        ስፖርት\n",
       "3   ብርሃን ፈይሳአዲስ አበባ፡- የኢትዮጵያ ፕሪምየር ሊግ በሼር ካምፓኒ እንዲ...        ስፖርት\n",
       "4   ቦጋለ አበበ የኢትዮጵያ ኦሊምፒክ ኮሚቴ አርባ አምስተኛ መደበኛ ጠቅላላ ጉ...        ስፖርት\n",
       "5    ብርሃን ፈይሳ አዲስ አበባ፡- እንደ ሃገር እየታዩ ያሉትን ስብራቶችና ች...        ስፖርት\n",
       "6   ብርሃን ፈይሳ አዲስ አበባ፡- ስፖርታዊ እንቅስቃሴና ውድድሮች በሚከናወኑበ...        ስፖርት\n",
       "7   ቦጋለ አበበ‹‹ስፖርትና ፖለቲካ አንድ ናቸው ወይም ጠንካራ ግንኙነት አላቸ...        ስፖርት\n",
       "8   ቦጋለ አበበ በኮቪድ-19 ወረርሽኝ ምክንያት የዓለም ማህበራዊ፣ ፖለቲካዊና...        ስፖርት\n",
       "9    ኧሯ! እንዴት ሆኖ እንዴት ሆኖ እኛንማ አይደፍርም! ብለን ነበር ደፈረን...        መዝናኛ\n",
       "10   ቦጋለ አበበ ምዕራብ አፍሪካዊቷ አገር ኮትዲቯር የ2023 አፍሪካ ዋንጫን...        ስፖርት\n",
       "11  ብርሃን ፈይሳወቅቱ የስፖርት ማዘውተሪያ ስፍራዎች ግንባታ በዓለም አቀፍ ደ...        ስፖርት\n",
       "12  አስቴር ኤልያስስፍራው ሞቃታማ ቢሆንም ቅጥር ጊቢው ግን በቡና ችግኞችና በ...  ሀገር አቀፍ ዜና\n",
       "13  ቦጋለ አበበ ጃፓን ከሰባት ዓመታት በላይ ብዙ የለፋችበት የቶኪዮ 2020 ...        ስፖርት\n",
       "14  ብርሃን ፈይሳ አዲስ አበባ፡- ብሄራዊ የስፖርት ምክር ቤት ነገ የመጀመሪያ...        ስፖርት"
      ]
     },
     "execution_count": 11,
     "metadata": {},
     "output_type": "execute_result"
    }
   ],
   "source": [
    "# Only use the columns we need \n",
    "n_data = data[['article','category']]\n",
    "n_data.head(15)\n"
   ]
  },
  {
   "cell_type": "code",
   "execution_count": 12,
   "id": "e1281ffa",
   "metadata": {},
   "outputs": [],
   "source": [
    "# Save the new data\n",
    "n_data.to_csv('../data/Amharic_News_Dataset.csv')"
   ]
  },
  {
   "cell_type": "code",
   "execution_count": null,
   "id": "6bc4e81b",
   "metadata": {},
   "outputs": [],
   "source": []
  }
 ],
 "metadata": {
  "kernelspec": {
   "display_name": "Python 3 (ipykernel)",
   "language": "python",
   "name": "python3"
  },
  "language_info": {
   "codemirror_mode": {
    "name": "ipython",
    "version": 3
   },
   "file_extension": ".py",
   "mimetype": "text/x-python",
   "name": "python",
   "nbconvert_exporter": "python",
   "pygments_lexer": "ipython3",
   "version": "3.9.7"
  }
 },
 "nbformat": 4,
 "nbformat_minor": 5
}
