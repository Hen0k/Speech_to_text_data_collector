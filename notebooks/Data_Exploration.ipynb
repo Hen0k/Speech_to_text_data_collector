{
 "cells": [
  {
   "cell_type": "markdown",
   "id": "c1abc296",
   "metadata": {},
   "source": [
    "## Import Libraries"
   ]
  },
  {
   "cell_type": "code",
   "execution_count": 1,
   "id": "c222e058",
   "metadata": {},
   "outputs": [],
   "source": [
    "import sys, os\n",
    "import pandas as pd \n",
    "import seaborn as sns  \n",
    "import matplotlib.pyplot as plt \n",
    "sns.set_style(\"darkgrid\")\n",
    "%matplotlib inline"
   ]
  },
  {
   "cell_type": "code",
   "execution_count": 2,
   "id": "eba8f9b1",
   "metadata": {},
   "outputs": [
    {
     "name": "stdout",
     "output_type": "stream",
     "text": [
      "2022-07-06 22:37:56,896 — FileHandler — DEBUG — Loaded successfully!\n",
      "2022-07-06 22:37:56,901 — Plotter — DEBUG — Loaded successfully!\n"
     ]
    }
   ],
   "source": [
    "sys.path.append(os.path.abspath(os.path.join('../scripts')))\n",
    "from file_handler import FileHandler\n",
    "from plotter import Plotter\n",
    "file_handler = FileHandler()\n",
    "plot = Plotter()"
   ]
  },
  {
   "cell_type": "markdown",
   "metadata": {},
   "source": [
    "## Dataset Analysis"
   ]
  },
  {
   "cell_type": "code",
   "execution_count": 3,
   "id": "d635325e",
   "metadata": {},
   "outputs": [
    {
     "name": "stdout",
     "output_type": "stream",
     "text": [
      "2022-07-06 22:37:59,437 — FileHandler — DEBUG — File is read as csv\n"
     ]
    }
   ],
   "source": [
    "# Read the dataset\n",
    "\n",
    "data = file_handler.read_csv('../data/Amharic_News_Dataset.csv')"
   ]
  },
  {
   "cell_type": "code",
   "execution_count": 4,
   "id": "096b4971",
   "metadata": {},
   "outputs": [
    {
     "data": {
      "text/html": [
       "<div>\n",
       "<style scoped>\n",
       "    .dataframe tbody tr th:only-of-type {\n",
       "        vertical-align: middle;\n",
       "    }\n",
       "\n",
       "    .dataframe tbody tr th {\n",
       "        vertical-align: top;\n",
       "    }\n",
       "\n",
       "    .dataframe thead th {\n",
       "        text-align: right;\n",
       "    }\n",
       "</style>\n",
       "<table border=\"1\" class=\"dataframe\">\n",
       "  <thead>\n",
       "    <tr style=\"text-align: right;\">\n",
       "      <th></th>\n",
       "      <th>headline</th>\n",
       "      <th>category</th>\n",
       "      <th>date</th>\n",
       "      <th>views</th>\n",
       "      <th>article</th>\n",
       "      <th>link</th>\n",
       "    </tr>\n",
       "  </thead>\n",
       "  <tbody>\n",
       "    <tr>\n",
       "      <th>0</th>\n",
       "      <td>የኦሊምፒክ ማጣሪያ ተሳታፊዎች የሚለዩበት ቻምፒዮና እየተካሄደ ይገኛል</td>\n",
       "      <td>ስፖርት</td>\n",
       "      <td>January 14, 2021</td>\n",
       "      <td>2</td>\n",
       "      <td>ብርሃን ፈይሳየኢትዮጵያ ቦክስ ፌዴሬሽን በየዓመቱ የሚያዘጋጀው የክለቦች ቻ...</td>\n",
       "      <td>https://www.press.et/Ama/?p=39481</td>\n",
       "    </tr>\n",
       "    <tr>\n",
       "      <th>1</th>\n",
       "      <td>አዲስ ዘመን ድሮ</td>\n",
       "      <td>መዝናኛ</td>\n",
       "      <td>December 28, 2020</td>\n",
       "      <td>4</td>\n",
       "      <td>የአዲስ ዘመን ጋዜጣ ቀደምት ዘገባዎች በእጅጉ ተነባቢ ዛሬም ላገኛቸው በ...</td>\n",
       "      <td>https://www.press.et/Ama/?p=38334</td>\n",
       "    </tr>\n",
       "    <tr>\n",
       "      <th>2</th>\n",
       "      <td>የአረንጓዴ ጎርፍ በጎ አድራጎት አምባሳደሮች ተሰየሙ</td>\n",
       "      <td>ስፖርት</td>\n",
       "      <td>January 6, 2021</td>\n",
       "      <td>6</td>\n",
       "      <td>ቦጋለ አበበየአዲስ አበባ ከተማ አስተዳደር ስፖርት ኮሚሽን ከኢትዮጵያ አረ...</td>\n",
       "      <td>https://www.press.et/Ama/?p=39010</td>\n",
       "    </tr>\n",
       "    <tr>\n",
       "      <th>3</th>\n",
       "      <td>የሊጉ በቢዝነስ ሞዴል መመራት አበረታች ጅምር መሆኑ ተገለጸ</td>\n",
       "      <td>ስፖርት</td>\n",
       "      <td>January 6, 2021</td>\n",
       "      <td>5</td>\n",
       "      <td>ብርሃን ፈይሳአዲስ አበባ፡- የኢትዮጵያ ፕሪምየር ሊግ በሼር ካምፓኒ እንዲ...</td>\n",
       "      <td>https://www.press.et/Ama/?p=39011</td>\n",
       "    </tr>\n",
       "    <tr>\n",
       "      <th>4</th>\n",
       "      <td>የኦሊምፒክ ሥራ አስፈፃሚው እስከ ቶኪዮ ኦሊምፒክ ማግስት ይቀጥላል</td>\n",
       "      <td>ስፖርት</td>\n",
       "      <td>January 6, 2021</td>\n",
       "      <td>12</td>\n",
       "      <td>ቦጋለ አበበ የኢትዮጵያ ኦሊምፒክ ኮሚቴ አርባ አምስተኛ መደበኛ ጠቅላላ ጉ...</td>\n",
       "      <td>https://www.press.et/Ama/?p=39012</td>\n",
       "    </tr>\n",
       "  </tbody>\n",
       "</table>\n",
       "</div>"
      ],
      "text/plain": [
       "                                      headline category               date  \\\n",
       "0  የኦሊምፒክ ማጣሪያ ተሳታፊዎች የሚለዩበት ቻምፒዮና እየተካሄደ ይገኛል     ስፖርት   January 14, 2021   \n",
       "1                                   አዲስ ዘመን ድሮ     መዝናኛ  December 28, 2020   \n",
       "2             የአረንጓዴ ጎርፍ በጎ አድራጎት አምባሳደሮች ተሰየሙ     ስፖርት    January 6, 2021   \n",
       "3        የሊጉ በቢዝነስ ሞዴል መመራት አበረታች ጅምር መሆኑ ተገለጸ     ስፖርት    January 6, 2021   \n",
       "4    የኦሊምፒክ ሥራ አስፈፃሚው እስከ ቶኪዮ ኦሊምፒክ ማግስት ይቀጥላል     ስፖርት    January 6, 2021   \n",
       "\n",
       "  views                                            article  \\\n",
       "0     2  ብርሃን ፈይሳየኢትዮጵያ ቦክስ ፌዴሬሽን በየዓመቱ የሚያዘጋጀው የክለቦች ቻ...   \n",
       "1     4   የአዲስ ዘመን ጋዜጣ ቀደምት ዘገባዎች በእጅጉ ተነባቢ ዛሬም ላገኛቸው በ...   \n",
       "2     6  ቦጋለ አበበየአዲስ አበባ ከተማ አስተዳደር ስፖርት ኮሚሽን ከኢትዮጵያ አረ...   \n",
       "3     5  ብርሃን ፈይሳአዲስ አበባ፡- የኢትዮጵያ ፕሪምየር ሊግ በሼር ካምፓኒ እንዲ...   \n",
       "4    12  ቦጋለ አበበ የኢትዮጵያ ኦሊምፒክ ኮሚቴ አርባ አምስተኛ መደበኛ ጠቅላላ ጉ...   \n",
       "\n",
       "                                link  \n",
       "0  https://www.press.et/Ama/?p=39481  \n",
       "1  https://www.press.et/Ama/?p=38334  \n",
       "2  https://www.press.et/Ama/?p=39010  \n",
       "3  https://www.press.et/Ama/?p=39011  \n",
       "4  https://www.press.et/Ama/?p=39012  "
      ]
     },
     "execution_count": 4,
     "metadata": {},
     "output_type": "execute_result"
    }
   ],
   "source": [
    "data.head()"
   ]
  },
  {
   "cell_type": "code",
   "execution_count": 5,
   "id": "9789a116",
   "metadata": {},
   "outputs": [
    {
     "name": "stdout",
     "output_type": "stream",
     "text": [
      "<class 'pandas.core.frame.DataFrame'>\n",
      "RangeIndex: 51483 entries, 0 to 51482\n",
      "Data columns (total 6 columns):\n",
      " #   Column    Non-Null Count  Dtype \n",
      "---  ------    --------------  ----- \n",
      " 0   headline  51470 non-null  object\n",
      " 1   category  51482 non-null  object\n",
      " 2   date      51483 non-null  object\n",
      " 3   views     51483 non-null  object\n",
      " 4   article   51483 non-null  object\n",
      " 5   link      51483 non-null  object\n",
      "dtypes: object(6)\n",
      "memory usage: 2.4+ MB\n"
     ]
    }
   ],
   "source": [
    "data.info()"
   ]
  },
  {
   "cell_type": "code",
   "execution_count": 6,
   "id": "940a12a2",
   "metadata": {},
   "outputs": [],
   "source": [
    "data = data.dropna(subset=['article'])"
   ]
  },
  {
   "cell_type": "code",
   "execution_count": 7,
   "id": "4e550b0e",
   "metadata": {},
   "outputs": [
    {
     "data": {
      "text/html": [
       "<div>\n",
       "<style scoped>\n",
       "    .dataframe tbody tr th:only-of-type {\n",
       "        vertical-align: middle;\n",
       "    }\n",
       "\n",
       "    .dataframe tbody tr th {\n",
       "        vertical-align: top;\n",
       "    }\n",
       "\n",
       "    .dataframe thead th {\n",
       "        text-align: right;\n",
       "    }\n",
       "</style>\n",
       "<table border=\"1\" class=\"dataframe\">\n",
       "  <thead>\n",
       "    <tr style=\"text-align: right;\">\n",
       "      <th></th>\n",
       "      <th>headline</th>\n",
       "      <th>category</th>\n",
       "      <th>date</th>\n",
       "      <th>views</th>\n",
       "      <th>article</th>\n",
       "      <th>link</th>\n",
       "      <th>word_len</th>\n",
       "    </tr>\n",
       "  </thead>\n",
       "  <tbody>\n",
       "    <tr>\n",
       "      <th>0</th>\n",
       "      <td>የኦሊምፒክ ማጣሪያ ተሳታፊዎች የሚለዩበት ቻምፒዮና እየተካሄደ ይገኛል</td>\n",
       "      <td>ስፖርት</td>\n",
       "      <td>January 14, 2021</td>\n",
       "      <td>2</td>\n",
       "      <td>ብርሃን ፈይሳየኢትዮጵያ ቦክስ ፌዴሬሽን በየዓመቱ የሚያዘጋጀው የክለቦች ቻ...</td>\n",
       "      <td>https://www.press.et/Ama/?p=39481</td>\n",
       "      <td>298</td>\n",
       "    </tr>\n",
       "    <tr>\n",
       "      <th>1</th>\n",
       "      <td>አዲስ ዘመን ድሮ</td>\n",
       "      <td>መዝናኛ</td>\n",
       "      <td>December 28, 2020</td>\n",
       "      <td>4</td>\n",
       "      <td>የአዲስ ዘመን ጋዜጣ ቀደምት ዘገባዎች በእጅጉ ተነባቢ ዛሬም ላገኛቸው በ...</td>\n",
       "      <td>https://www.press.et/Ama/?p=38334</td>\n",
       "      <td>475</td>\n",
       "    </tr>\n",
       "    <tr>\n",
       "      <th>2</th>\n",
       "      <td>የአረንጓዴ ጎርፍ በጎ አድራጎት አምባሳደሮች ተሰየሙ</td>\n",
       "      <td>ስፖርት</td>\n",
       "      <td>January 6, 2021</td>\n",
       "      <td>6</td>\n",
       "      <td>ቦጋለ አበበየአዲስ አበባ ከተማ አስተዳደር ስፖርት ኮሚሽን ከኢትዮጵያ አረ...</td>\n",
       "      <td>https://www.press.et/Ama/?p=39010</td>\n",
       "      <td>265</td>\n",
       "    </tr>\n",
       "    <tr>\n",
       "      <th>3</th>\n",
       "      <td>የሊጉ በቢዝነስ ሞዴል መመራት አበረታች ጅምር መሆኑ ተገለጸ</td>\n",
       "      <td>ስፖርት</td>\n",
       "      <td>January 6, 2021</td>\n",
       "      <td>5</td>\n",
       "      <td>ብርሃን ፈይሳአዲስ አበባ፡- የኢትዮጵያ ፕሪምየር ሊግ በሼር ካምፓኒ እንዲ...</td>\n",
       "      <td>https://www.press.et/Ama/?p=39011</td>\n",
       "      <td>296</td>\n",
       "    </tr>\n",
       "    <tr>\n",
       "      <th>4</th>\n",
       "      <td>የኦሊምፒክ ሥራ አስፈፃሚው እስከ ቶኪዮ ኦሊምፒክ ማግስት ይቀጥላል</td>\n",
       "      <td>ስፖርት</td>\n",
       "      <td>January 6, 2021</td>\n",
       "      <td>12</td>\n",
       "      <td>ቦጋለ አበበ የኢትዮጵያ ኦሊምፒክ ኮሚቴ አርባ አምስተኛ መደበኛ ጠቅላላ ጉ...</td>\n",
       "      <td>https://www.press.et/Ama/?p=39012</td>\n",
       "      <td>476</td>\n",
       "    </tr>\n",
       "  </tbody>\n",
       "</table>\n",
       "</div>"
      ],
      "text/plain": [
       "                                      headline category               date  \\\n",
       "0  የኦሊምፒክ ማጣሪያ ተሳታፊዎች የሚለዩበት ቻምፒዮና እየተካሄደ ይገኛል     ስፖርት   January 14, 2021   \n",
       "1                                   አዲስ ዘመን ድሮ     መዝናኛ  December 28, 2020   \n",
       "2             የአረንጓዴ ጎርፍ በጎ አድራጎት አምባሳደሮች ተሰየሙ     ስፖርት    January 6, 2021   \n",
       "3        የሊጉ በቢዝነስ ሞዴል መመራት አበረታች ጅምር መሆኑ ተገለጸ     ስፖርት    January 6, 2021   \n",
       "4    የኦሊምፒክ ሥራ አስፈፃሚው እስከ ቶኪዮ ኦሊምፒክ ማግስት ይቀጥላል     ስፖርት    January 6, 2021   \n",
       "\n",
       "  views                                            article  \\\n",
       "0     2  ብርሃን ፈይሳየኢትዮጵያ ቦክስ ፌዴሬሽን በየዓመቱ የሚያዘጋጀው የክለቦች ቻ...   \n",
       "1     4   የአዲስ ዘመን ጋዜጣ ቀደምት ዘገባዎች በእጅጉ ተነባቢ ዛሬም ላገኛቸው በ...   \n",
       "2     6  ቦጋለ አበበየአዲስ አበባ ከተማ አስተዳደር ስፖርት ኮሚሽን ከኢትዮጵያ አረ...   \n",
       "3     5  ብርሃን ፈይሳአዲስ አበባ፡- የኢትዮጵያ ፕሪምየር ሊግ በሼር ካምፓኒ እንዲ...   \n",
       "4    12  ቦጋለ አበበ የኢትዮጵያ ኦሊምፒክ ኮሚቴ አርባ አምስተኛ መደበኛ ጠቅላላ ጉ...   \n",
       "\n",
       "                                link  word_len  \n",
       "0  https://www.press.et/Ama/?p=39481       298  \n",
       "1  https://www.press.et/Ama/?p=38334       475  \n",
       "2  https://www.press.et/Ama/?p=39010       265  \n",
       "3  https://www.press.et/Ama/?p=39011       296  \n",
       "4  https://www.press.et/Ama/?p=39012       476  "
      ]
     },
     "execution_count": 7,
     "metadata": {},
     "output_type": "execute_result"
    }
   ],
   "source": [
    "data['word_len'] = data['article'].str.split().str.len()\n",
    "data.head()"
   ]
  },
  {
   "cell_type": "code",
   "execution_count": 8,
   "id": "291e5460",
   "metadata": {},
   "outputs": [
    {
     "name": "stdout",
     "output_type": "stream",
     "text": [
      "<class 'pandas.core.frame.DataFrame'>\n",
      "RangeIndex: 51483 entries, 0 to 51482\n",
      "Data columns (total 7 columns):\n",
      " #   Column    Non-Null Count  Dtype \n",
      "---  ------    --------------  ----- \n",
      " 0   headline  51470 non-null  object\n",
      " 1   category  51482 non-null  object\n",
      " 2   date      51483 non-null  object\n",
      " 3   views     51483 non-null  object\n",
      " 4   article   51483 non-null  object\n",
      " 5   link      51483 non-null  object\n",
      " 6   word_len  51483 non-null  int64 \n",
      "dtypes: int64(1), object(6)\n",
      "memory usage: 2.7+ MB\n"
     ]
    }
   ],
   "source": [
    "data.info()"
   ]
  },
  {
   "cell_type": "code",
   "execution_count": 9,
   "id": "ec1d02f2",
   "metadata": {},
   "outputs": [
    {
     "data": {
      "text/plain": [
       "248.9586853912942"
      ]
     },
     "execution_count": 9,
     "metadata": {},
     "output_type": "execute_result"
    }
   ],
   "source": [
    "data.word_len.mean()"
   ]
  },
  {
   "cell_type": "code",
   "execution_count": 10,
   "id": "6bc4e81b",
   "metadata": {},
   "outputs": [
    {
     "data": {
      "text/plain": [
       "'ብርሃን ፈይሳየኢትዮጵያ ቦክስ ፌዴሬሽን በየዓመቱ የሚያዘጋጀው የክለቦች ቻምፒዮና በአዲስ አበባ ከተማ በመካሄድ ላይ ይገኛል። የተሻለ ብቃት ያሳዩ ቦክሰኞች ለቶኪዮ ኦሊምፒክ ማጣሪያ ተሳታፊ እንደሚሆኑም ታውቋል።በቦክስ ስፖርት ከሚካሄዱት ዓመታዊ ቻምፒዮናዎች መካከል አንዱ በክለቦች መካከል የሚካሄደው ነው፤ የዚህ ውድድር የመጀመሪያው ዙር በአዲስ አበባ ከተማ ተጀምሯል። የኢትዮጵያ ቦክስ ፌዴሬሽን ከአዲስ አበባ ቦክስ ፌዴሬሽን ጋር በመተባበር በተዘጋጀው በዚህ ቻምፒዮና፤ ከኮቪድ 19 ወረርሽኝ መከሰት በኋላ ለመጀመሪያ ጊዜ የተካሄደ ውድድርም ነው። በውድድሩም ላይ አምስት ክለቦች ከአዲስ አበባ (ፌዴራልፖሊስ፣ ፌዴራል ማረሚያ ቤቶች፣ አዲስ አበባ ፖሊስ፣ የኢትዮጵያ ወጣቶች ስፖርት አካዳሚ እና ኦሞቲክ ቦክስ)፣ ሁለት ክለቦች ከአማራ ክልል (ጎንደር ከነማ እና ደሴ ከነማ) እንዲሁም ድሬዳዋ ከነማ በድምሩ ስምንት ክለቦች ተሳታፊ መሆናቸውን የኢትዮጵያ ቦክስ ፌዴሬሽን መረጃ ያሳያል። በአጠቃላይ ክለቦቻቸውን ወክለውም 12 ሴትና 76 ወንድ ቦክሰኞች በጥቅሉ 88 ተወዳዳሪዎች ተሳታፊ ይሆናሉ። ውድድሩ የሚካሄደው በራስ ኃይሉ ስፖርት ትምህርትና ስልጠና ማዕከል ሲሆን፤ በ10 ክብደቶች በ49፣ 52፣ 57፣ 60፣ 63፣ 69፣ 70፣ 81፣ 89 እና 91 ኪሎ ግራሞች እየተካሄደም ይገኛል። የቦክስ ስፖርት ከንክኪ ስፖርቶች መካከል አንዱ እንደመሆኑ ጨዋታው በሚካሄድበት ወቅት ቦክሰኞቹ አካላዊ ቅርርብ ሊያደርጉ እና ሊነካኩ ይችላሉ። በመሆኑም በዚህ ረገድ ውድድሩ ሙሉ ለሙሉ የኮቪድ 19 ጥንቃቄን በተላበሰ መልኩ እየተካሄደ መሆኑን ነው ፌዴሬሽኑ ያረጋገጠው። ይኸውም ተወዳዳሪዎችና አሰልጣኞች የኮቪድ ምርመራ እንዲያደርጉና ከሌሎች ሰዎች ጋር እንዳይገናኙ በካምፕ እንዲቆዩ በማድረግ ነው። ከዚህ ባሻገር ውድድር የሚደረግበት ሪንግ ቶሎ ቶሎ በኬሚካል እንዲጸዱ እንዲሁም ተመልካቾች ውድድሩ ላይ እንዳይገኙም ተደርጓል። ኮቪድ 19 ዓለም አቀፍ ወረርሽኝ እንደመሆኑ በመላው ዓለም ስፖርታዊ ውድድሮች ተቋርጠው መቆየታቸው የሚታወስ ነው። ከእነዚህ ውድድሮች መካከል ለቶኪዮ 2020 ኦሊምፒክ የቦክስ ስፖርት ማጣሪያ የሚካሄደው ውድድር ይጠቀሳል። ውድድሮች ወደ እንቅስቃሴ መግባታቸውን ተከትሎም ማጣሪያው የሚቀጥል ይሆናል። ኢትዮጵያም በዚህ ቻምፒዮና (በመጀመሪያው ዙር) የተሻለ ብቃት ያሳዩ ቦክሰኞችን በማጣሪያው የምታሳትፍ መሆኑ ታውቋል። ቻምፒዮናው አራት ዙሮች ያሉት ሲሆን፤ ሁለተኛው ዙር ከአማራ ክልል ቦክስ ፌዴሬሽን ጋር በመሆን ጎንደር ላይ፣ ሶስተኛውን ከደቡብ ክልል ቦክስ ፌዴሬሽን ጋር በመሆን ወላይታ እንዲሁም የመጨረሻውና የማጠቃለያው ውድድር አዲስ አበባ ላይ የሚካሄድም ይሆናል። ቻምፒዮናው ጥር 4/2013 ዓም የተጀመረ ሲሆን እስከ ጥር 7/2013 ዓም ድረስም ይቆያል።'"
      ]
     },
     "execution_count": 10,
     "metadata": {},
     "output_type": "execute_result"
    }
   ],
   "source": [
    "data['article'][0]"
   ]
  },
  {
   "cell_type": "markdown",
   "id": "294f6dc6",
   "metadata": {},
   "source": [
    "## Dataset Preparation"
   ]
  },
  {
   "cell_type": "code",
   "execution_count": 11,
   "id": "99e765df",
   "metadata": {},
   "outputs": [
    {
     "name": "stdout",
     "output_type": "stream",
     "text": [
      "2022-07-06 22:38:05,017 — FileHandler — INFO — Article splitted and combined with its category successfully\n"
     ]
    }
   ],
   "source": [
    "combined = file_handler.article_category_partition(data, 0, len(data))"
   ]
  },
  {
   "cell_type": "code",
   "execution_count": 12,
   "id": "aed311e0",
   "metadata": {},
   "outputs": [
    {
     "data": {
      "text/html": [
       "<div>\n",
       "<style scoped>\n",
       "    .dataframe tbody tr th:only-of-type {\n",
       "        vertical-align: middle;\n",
       "    }\n",
       "\n",
       "    .dataframe tbody tr th {\n",
       "        vertical-align: top;\n",
       "    }\n",
       "\n",
       "    .dataframe thead th {\n",
       "        text-align: right;\n",
       "    }\n",
       "</style>\n",
       "<table border=\"1\" class=\"dataframe\">\n",
       "  <thead>\n",
       "    <tr style=\"text-align: right;\">\n",
       "      <th></th>\n",
       "      <th>category</th>\n",
       "      <th>text</th>\n",
       "    </tr>\n",
       "  </thead>\n",
       "  <tbody>\n",
       "    <tr>\n",
       "      <th>0</th>\n",
       "      <td>ስፖርት</td>\n",
       "      <td>ብርሃን ፈይሳየኢትዮጵያ ቦክስ ፌዴሬሽን በየዓመቱ የሚያዘጋጀው የክለቦች ቻ...</td>\n",
       "    </tr>\n",
       "    <tr>\n",
       "      <th>1</th>\n",
       "      <td>ስፖርት</td>\n",
       "      <td>የተሻለ ብቃት ያሳዩ ቦክሰኞች ለቶኪዮ ኦሊምፒክ ማጣሪያ ተሳታፊ እንደሚሆኑ...</td>\n",
       "    </tr>\n",
       "    <tr>\n",
       "      <th>2</th>\n",
       "      <td>ስፖርት</td>\n",
       "      <td>በአጠቃላይ ክለቦቻቸውን ወክለውም 12 ሴትና 76 ወንድ ቦክሰኞች በጥቅሉ ...</td>\n",
       "    </tr>\n",
       "    <tr>\n",
       "      <th>3</th>\n",
       "      <td>ስፖርት</td>\n",
       "      <td>ይኸውም ተወዳዳሪዎችና አሰልጣኞች የኮቪድ ምርመራ እንዲያደርጉና ከሌሎች ሰ...</td>\n",
       "    </tr>\n",
       "    <tr>\n",
       "      <th>4</th>\n",
       "      <td>ስፖርት</td>\n",
       "      <td>ኮቪድ 19 ዓለም አቀፍ ወረርሽኝ እንደመሆኑ በመላው ዓለም ስፖርታዊ ውድድ...</td>\n",
       "    </tr>\n",
       "    <tr>\n",
       "      <th>...</th>\n",
       "      <td>...</td>\n",
       "      <td>...</td>\n",
       "    </tr>\n",
       "    <tr>\n",
       "      <th>154787</th>\n",
       "      <td>ፖለቲካ</td>\n",
       "      <td>በውይይታቸውም የዓለም የምግብ ፕሮግራም ለኢትዮጵያ የሚያደርገውን ድጋፍ አ...</td>\n",
       "    </tr>\n",
       "    <tr>\n",
       "      <th>154788</th>\n",
       "      <td>ፖለቲካ</td>\n",
       "      <td>የጋምቤላ ክልል ፕሬስ ሴክሬታሪያት በላከልን መረጃ መሰረት</td>\n",
       "    </tr>\n",
       "    <tr>\n",
       "      <th>154789</th>\n",
       "      <td>ፖለቲካ</td>\n",
       "      <td>አቶ አገኘሁ ተሻገር የአማራ ክልል የሰላም ግንባታና የህዝብ ደህንነት ቢሮ...</td>\n",
       "    </tr>\n",
       "    <tr>\n",
       "      <th>154790</th>\n",
       "      <td>ሀገር አቀፍ ዜና</td>\n",
       "      <td>ዘ ሄግ ኢንስቲቱዩት ፎር ኢኖቬሽን ኦፍ ሎው</td>\n",
       "    </tr>\n",
       "    <tr>\n",
       "      <th>154791</th>\n",
       "      <td>ሀገር አቀፍ ዜና</td>\n",
       "      <td>ከተባለ ድርጅት ጋራ በመተባበር የተሰጠው ነው፡፡</td>\n",
       "    </tr>\n",
       "  </tbody>\n",
       "</table>\n",
       "<p>154792 rows × 2 columns</p>\n",
       "</div>"
      ],
      "text/plain": [
       "          category                                               text\n",
       "0             ስፖርት  ብርሃን ፈይሳየኢትዮጵያ ቦክስ ፌዴሬሽን በየዓመቱ የሚያዘጋጀው የክለቦች ቻ...\n",
       "1             ስፖርት  የተሻለ ብቃት ያሳዩ ቦክሰኞች ለቶኪዮ ኦሊምፒክ ማጣሪያ ተሳታፊ እንደሚሆኑ...\n",
       "2             ስፖርት  በአጠቃላይ ክለቦቻቸውን ወክለውም 12 ሴትና 76 ወንድ ቦክሰኞች በጥቅሉ ...\n",
       "3             ስፖርት  ይኸውም ተወዳዳሪዎችና አሰልጣኞች የኮቪድ ምርመራ እንዲያደርጉና ከሌሎች ሰ...\n",
       "4             ስፖርት  ኮቪድ 19 ዓለም አቀፍ ወረርሽኝ እንደመሆኑ በመላው ዓለም ስፖርታዊ ውድድ...\n",
       "...            ...                                                ...\n",
       "154787        ፖለቲካ  በውይይታቸውም የዓለም የምግብ ፕሮግራም ለኢትዮጵያ የሚያደርገውን ድጋፍ አ...\n",
       "154788        ፖለቲካ               የጋምቤላ ክልል ፕሬስ ሴክሬታሪያት በላከልን መረጃ መሰረት\n",
       "154789        ፖለቲካ  አቶ አገኘሁ ተሻገር የአማራ ክልል የሰላም ግንባታና የህዝብ ደህንነት ቢሮ...\n",
       "154790  ሀገር አቀፍ ዜና                        ዘ ሄግ ኢንስቲቱዩት ፎር ኢኖቬሽን ኦፍ ሎው\n",
       "154791  ሀገር አቀፍ ዜና                     ከተባለ ድርጅት ጋራ በመተባበር የተሰጠው ነው፡፡\n",
       "\n",
       "[154792 rows x 2 columns]"
      ]
     },
     "execution_count": 12,
     "metadata": {},
     "output_type": "execute_result"
    }
   ],
   "source": [
    "combined"
   ]
  },
  {
   "cell_type": "code",
   "execution_count": 13,
   "id": "d6412b69",
   "metadata": {},
   "outputs": [
    {
     "data": {
      "text/plain": [
       "array(['ስፖርት', 'መዝናኛ', 'ሀገር አቀፍ ዜና', 'ቢዝነስ', 'ዓለም አቀፍ ዜና', 'ፖለቲካ'],\n",
       "      dtype=object)"
      ]
     },
     "execution_count": 13,
     "metadata": {},
     "output_type": "execute_result"
    }
   ],
   "source": [
    "combined.category.unique()"
   ]
  },
  {
   "cell_type": "code",
   "execution_count": 14,
   "id": "f382b971",
   "metadata": {},
   "outputs": [
    {
     "data": {
      "text/html": [
       "<div>\n",
       "<style scoped>\n",
       "    .dataframe tbody tr th:only-of-type {\n",
       "        vertical-align: middle;\n",
       "    }\n",
       "\n",
       "    .dataframe tbody tr th {\n",
       "        vertical-align: top;\n",
       "    }\n",
       "\n",
       "    .dataframe thead th {\n",
       "        text-align: right;\n",
       "    }\n",
       "</style>\n",
       "<table border=\"1\" class=\"dataframe\">\n",
       "  <thead>\n",
       "    <tr style=\"text-align: right;\">\n",
       "      <th></th>\n",
       "      <th>Count</th>\n",
       "    </tr>\n",
       "    <tr>\n",
       "      <th>Text Category</th>\n",
       "      <th></th>\n",
       "    </tr>\n",
       "  </thead>\n",
       "  <tbody>\n",
       "    <tr>\n",
       "      <th>ሀገር አቀፍ ዜና</th>\n",
       "      <td>54860</td>\n",
       "    </tr>\n",
       "    <tr>\n",
       "      <th>ስፖርት</th>\n",
       "      <td>54797</td>\n",
       "    </tr>\n",
       "    <tr>\n",
       "      <th>መዝናኛ</th>\n",
       "      <td>17889</td>\n",
       "    </tr>\n",
       "    <tr>\n",
       "      <th>ዓለም አቀፍ ዜና</th>\n",
       "      <td>12781</td>\n",
       "    </tr>\n",
       "    <tr>\n",
       "      <th>ፖለቲካ</th>\n",
       "      <td>11508</td>\n",
       "    </tr>\n",
       "    <tr>\n",
       "      <th>ቢዝነስ</th>\n",
       "      <td>2957</td>\n",
       "    </tr>\n",
       "  </tbody>\n",
       "</table>\n",
       "</div>"
      ],
      "text/plain": [
       "               Count\n",
       "Text Category       \n",
       "ሀገር አቀፍ ዜና     54860\n",
       "ስፖርት           54797\n",
       "መዝናኛ           17889\n",
       "ዓለም አቀፍ ዜና     12781\n",
       "ፖለቲካ           11508\n",
       "ቢዝነስ            2957"
      ]
     },
     "execution_count": 14,
     "metadata": {},
     "output_type": "execute_result"
    }
   ],
   "source": [
    "combined['category'].value_counts().rename_axis('Text Category').to_frame('Count')"
   ]
  },
  {
   "cell_type": "markdown",
   "id": "73745f3f",
   "metadata": {},
   "source": [
    "Here we converted the Amharic category name to English to make it readable for any viewers."
   ]
  },
  {
   "cell_type": "code",
   "execution_count": 15,
   "id": "b81788b9",
   "metadata": {},
   "outputs": [],
   "source": [
    "plot_df = combined.copy()     \n",
    "plot_df.loc[(plot_df['category'] == 'ስፖርት')] = 'Sport'\n",
    "plot_df.loc[(plot_df['category'] == 'ፖለቲካ')] = 'Poletics'\n",
    "plot_df.loc[(plot_df['category'] == 'ሀገር አቀፍ ዜና')] = 'National News'\n",
    "plot_df.loc[(plot_df['category'] == 'ዓለም አቀፍ ዜና')] = 'International News'\n",
    "plot_df.loc[(plot_df['category'] == 'መዝናኛ')] = 'Intertainment'\n",
    "plot_df.loc[(plot_df['category'] == 'ቢዝነስ')] = 'Business' "
   ]
  },
  {
   "cell_type": "markdown",
   "id": "4c56194b",
   "metadata": {},
   "source": [
    "In this section we ploted a bar graph which shows the distribution of the text category."
   ]
  },
  {
   "cell_type": "code",
   "execution_count": 16,
   "id": "ad0a2ece",
   "metadata": {},
   "outputs": [
    {
     "data": {
      "image/png": "[encoded data removed]",
      "text/plain": [
       "<Figure size 720x504 with 1 Axes>"
      ]
     },
     "metadata": {},
     "output_type": "display_data"
    }
   ],
   "source": [
    "plot.plot_bar(plot_df['category'], \"Distribution of Text Category\", \"Text Category\", \"Text Count\")"
   ]
  }
 ],
 "metadata": {
  "kernelspec": {
   "display_name": "Python 3.10.4 ('sttenv')",
   "language": "python",
   "name": "python3"
  },
  "language_info": {
   "codemirror_mode": {
    "name": "ipython",
    "version": 3
   },
   "file_extension": ".py",
   "mimetype": "text/x-python",
   "name": "python",
   "nbconvert_exporter": "python",
   "pygments_lexer": "ipython3",
   "version": "3.10.4"
  },
  "vscode": {
   "interpreter": {
    "hash": "74866d413a14e18aa48b0fd5ccb364acf0445585a127fa23bb4bfeff8aa21782"
   }
  }
 },
 "nbformat": 4,
 "nbformat_minor": 5
}
