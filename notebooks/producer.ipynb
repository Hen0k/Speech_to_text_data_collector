{
 "cells": [
  {
   "cell_type": "code",
   "execution_count": 1,
   "id": "e4e970db-9ccb-4f60-913c-801ed824f7db",
   "metadata": {},
   "outputs": [],
   "source": [
    "from kafka import KafkaProducer\n",
    "import os\n",
    "from json import dumps\n",
    "from time import sleep\n",
    "import sys"
   ]
  },
  {
   "cell_type": "code",
   "execution_count": 2,
   "id": "344a1b9e-ffc7-4b81-ab48-63785e4c6afb",
   "metadata": {},
   "outputs": [],
   "source": [
    "sys.path.append(os.path.abspath(os.path.join('../scripts')))"
   ]
  },
  {
   "cell_type": "code",
   "execution_count": 3,
   "id": "c34f09f7-4586-403e-81aa-7271c41111bb",
   "metadata": {},
   "outputs": [],
   "source": [
    "from all_kafka import AllKafka\n",
    "kf = AllKafka()"
   ]
  },
  {
   "cell_type": "markdown",
   "id": "592a1f6b-35df-49fd-8aba-3c202c37c15b",
   "metadata": {},
   "source": [
    "* Extract sentences"
   ]
  },
  {
   "cell_type": "code",
   "execution_count": 5,
   "id": "3bc54826-13f7-4a24-b2aa-ccf6314fd5f1",
   "metadata": {},
   "outputs": [],
   "source": [
    "import pandas as pd\n",
    "data = pd.read_csv(\"../data/transcription_text.csv\")\n",
    "lis = kf.csv_to_list(data)"
   ]
  },
  {
   "cell_type": "markdown",
   "id": "e28584ce-524b-4e62-9017-f1b8254c5126",
   "metadata": {},
   "source": [
    "* Send some sentences as message to consumer"
   ]
  },
  {
   "cell_type": "code",
   "execution_count": 7,
   "id": "08f0e556-6f7e-43f4-8581-4dd3a60b0444",
   "metadata": {},
   "outputs": [],
   "source": [
    "producer = kf.create_producer()\n",
    "for i in range(10):\n",
    "    producer.send('Topic3', lis[i])\n",
    "    sleep(5)"
   ]
  },
  {
   "cell_type": "code",
   "execution_count": null,
   "id": "6f23aa19-2aec-4e36-8c06-21e7a13c83f5",
   "metadata": {},
   "outputs": [],
   "source": []
  }
 ],
 "metadata": {
  "kernelspec": {
   "display_name": "Python 3.10.4 ('myenv')",
   "language": "python",
   "name": "python3"
  },
  "language_info": {
   "codemirror_mode": {
    "name": "ipython",
    "version": 3
   },
   "file_extension": ".py",
   "mimetype": "text/x-python",
   "name": "python",
   "nbconvert_exporter": "python",
   "pygments_lexer": "ipython3",
   "version": "3.10.4"
  },
  "vscode": {
   "interpreter": {
    "hash": "e7bb8ef3d88a1ac336bb8a1c1971a69283f0042776ecf48f2967f505f7e60c36"
   }
  }
 },
 "nbformat": 4,
 "nbformat_minor": 5
}
