{
 "cells": [
  {
   "cell_type": "code",
   "execution_count": 1,
   "id": "e4e970db-9ccb-4f60-913c-801ed824f7db",
   "metadata": {},
   "outputs": [],
   "source": [
    "from kafka import KafkaProducer\n",
    "import os\n",
    "from json import dumps\n",
    "from time import sleep"
   ]
  },
  {
   "cell_type": "code",
   "execution_count": 2,
   "id": "3bd6936a-c6d5-466b-8505-1451b5897afd",
   "metadata": {},
   "outputs": [],
   "source": [
    "producer = KafkaProducer(bootstrap_servers='localhost:9092',\n",
    "                         value_serializer=lambda x: dumps(x).encode('utf-8'))"
   ]
  },
  {
   "cell_type": "code",
   "execution_count": 3,
   "id": "3bc54826-13f7-4a24-b2aa-ccf6314fd5f1",
   "metadata": {},
   "outputs": [],
   "source": [
    "path  = str(os.path.abspath(os.path.join('../../python_tut/data/preprocessed')))"
   ]
  },
  {
   "cell_type": "code",
   "execution_count": 4,
   "id": "73abf889-2068-4b21-b24a-6008c11a0be3",
   "metadata": {},
   "outputs": [],
   "source": [
    "def extract_sentence(path, start,end):\n",
    "    allSentence = []\n",
    "    for i in range(start,end):\n",
    "        file = open(path+'/data_%i.txt'%i,encoding=\"utf8\")\n",
    "        sentences = file.readlines()\n",
    "        allSentence.extend(sentences)\n",
    "    return allSentence"
   ]
  },
  {
   "cell_type": "code",
   "execution_count": 5,
   "id": "61f6296e-39fd-4d72-a866-595f5a0611d9",
   "metadata": {},
   "outputs": [],
   "source": [
    "lis = extract_sentence(path, 0, 1)"
   ]
  },
  {
   "cell_type": "code",
   "execution_count": null,
   "id": "08f0e556-6f7e-43f4-8581-4dd3a60b0444",
   "metadata": {},
   "outputs": [],
   "source": [
    "for i in lis:\n",
    "    producer.send('Topic3', i)\n",
    "    sleep(5)"
   ]
  },
  {
   "cell_type": "code",
   "execution_count": null,
   "id": "6f23aa19-2aec-4e36-8c06-21e7a13c83f5",
   "metadata": {},
   "outputs": [],
   "source": []
  }
 ],
 "metadata": {
  "kernelspec": {
   "display_name": "Python 3 (ipykernel)",
   "language": "python",
   "name": "python3"
  },
  "language_info": {
   "codemirror_mode": {
    "name": "ipython",
    "version": 3
   },
   "file_extension": ".py",
   "mimetype": "text/x-python",
   "name": "python",
   "nbconvert_exporter": "python",
   "pygments_lexer": "ipython3",
   "version": "3.10.5"
  }
 },
 "nbformat": 4,
 "nbformat_minor": 5
}
