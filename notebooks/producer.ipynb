{
 "cells": [
  {
   "cell_type": "code",
   "execution_count": 1,
   "id": "e4e970db-9ccb-4f60-913c-801ed824f7db",
   "metadata": {},
   "outputs": [],
   "source": [
    "from kafka import KafkaProducer\n",
    "import os\n",
    "from json import dumps\n",
    "from time import sleep\n",
    "import sys"
   ]
  },
  {
   "cell_type": "code",
   "execution_count": 2,
   "id": "344a1b9e-ffc7-4b81-ab48-63785e4c6afb",
   "metadata": {},
   "outputs": [],
   "source": [
    "sys.path.append(os.path.abspath(os.path.join('../scripts')))"
   ]
  },
  {
   "cell_type": "code",
   "execution_count": 3,
   "id": "c34f09f7-4586-403e-81aa-7271c41111bb",
   "metadata": {},
   "outputs": [],
   "source": [
    "from all_kafka import AllKafka\n",
    "kf = AllKafka()"
   ]
  },
  {
   "cell_type": "markdown",
   "id": "592a1f6b-35df-49fd-8aba-3c202c37c15b",
   "metadata": {},
   "source": [
    "Stream data from s3 bucket to our kafka"
   ]
  },
  {
   "cell_type": "code",
   "execution_count": 4,
   "id": "3bc54826-13f7-4a24-b2aa-ccf6314fd5f1",
   "metadata": {},
   "outputs": [
    {
     "data": {
      "text/html": [
       "<div>\n",
       "<style scoped>\n",
       "    .dataframe tbody tr th:only-of-type {\n",
       "        vertical-align: middle;\n",
       "    }\n",
       "\n",
       "    .dataframe tbody tr th {\n",
       "        vertical-align: top;\n",
       "    }\n",
       "\n",
       "    .dataframe thead th {\n",
       "        text-align: right;\n",
       "    }\n",
       "</style>\n",
       "<table border=\"1\" class=\"dataframe\">\n",
       "  <thead>\n",
       "    <tr style=\"text-align: right;\">\n",
       "      <th></th>\n",
       "      <th>category</th>\n",
       "      <th>text</th>\n",
       "    </tr>\n",
       "  </thead>\n",
       "  <tbody>\n",
       "    <tr>\n",
       "      <th>0</th>\n",
       "      <td>ስፖርት</td>\n",
       "      <td>ብርሃን ፈይሳየኢትዮጵያ ቦክስ ፌዴሬሽን በየዓመቱ የሚያዘጋጀው የክለቦች ቻ...</td>\n",
       "    </tr>\n",
       "    <tr>\n",
       "      <th>1</th>\n",
       "      <td>ስፖርት</td>\n",
       "      <td>የተሻለ ብቃት ያሳዩ ቦክሰኞች ለቶኪዮ ኦሊምፒክ ማጣሪያ ተሳታፊ እንደሚሆኑ...</td>\n",
       "    </tr>\n",
       "    <tr>\n",
       "      <th>2</th>\n",
       "      <td>ስፖርት</td>\n",
       "      <td>በአጠቃላይ ክለቦቻቸውን ወክለውም 12 ሴትና 76 ወንድ ቦክሰኞች በጥቅሉ ...</td>\n",
       "    </tr>\n",
       "    <tr>\n",
       "      <th>3</th>\n",
       "      <td>ስፖርት</td>\n",
       "      <td>ይኸውም ተወዳዳሪዎችና አሰልጣኞች የኮቪድ ምርመራ እንዲያደርጉና ከሌሎች ሰ...</td>\n",
       "    </tr>\n",
       "    <tr>\n",
       "      <th>4</th>\n",
       "      <td>ስፖርት</td>\n",
       "      <td>ኮቪድ 19 ዓለም አቀፍ ወረርሽኝ እንደመሆኑ በመላው ዓለም ስፖርታዊ ውድድ...</td>\n",
       "    </tr>\n",
       "    <tr>\n",
       "      <th>...</th>\n",
       "      <td>...</td>\n",
       "      <td>...</td>\n",
       "    </tr>\n",
       "    <tr>\n",
       "      <th>154787</th>\n",
       "      <td>ፖለቲካ</td>\n",
       "      <td>በውይይታቸውም የዓለም የምግብ ፕሮግራም ለኢትዮጵያ የሚያደርገውን ድጋፍ አ...</td>\n",
       "    </tr>\n",
       "    <tr>\n",
       "      <th>154788</th>\n",
       "      <td>ፖለቲካ</td>\n",
       "      <td>የጋምቤላ ክልል ፕሬስ ሴክሬታሪያት በላከልን መረጃ መሰረት</td>\n",
       "    </tr>\n",
       "    <tr>\n",
       "      <th>154789</th>\n",
       "      <td>ፖለቲካ</td>\n",
       "      <td>አቶ አገኘሁ ተሻገር የአማራ ክልል የሰላም ግንባታና የህዝብ ደህንነት ቢሮ...</td>\n",
       "    </tr>\n",
       "    <tr>\n",
       "      <th>154790</th>\n",
       "      <td>ሀገር አቀፍ ዜና</td>\n",
       "      <td>ዘ ሄግ ኢንስቲቱዩት ፎር ኢኖቬሽን ኦፍ ሎው</td>\n",
       "    </tr>\n",
       "    <tr>\n",
       "      <th>154791</th>\n",
       "      <td>ሀገር አቀፍ ዜና</td>\n",
       "      <td>ከተባለ ድርጅት ጋራ በመተባበር የተሰጠው ነው፡፡</td>\n",
       "    </tr>\n",
       "  </tbody>\n",
       "</table>\n",
       "<p>154792 rows × 2 columns</p>\n",
       "</div>"
      ],
      "text/plain": [
       "          category                                               text\n",
       "0             ስፖርት  ብርሃን ፈይሳየኢትዮጵያ ቦክስ ፌዴሬሽን በየዓመቱ የሚያዘጋጀው የክለቦች ቻ...\n",
       "1             ስፖርት  የተሻለ ብቃት ያሳዩ ቦክሰኞች ለቶኪዮ ኦሊምፒክ ማጣሪያ ተሳታፊ እንደሚሆኑ...\n",
       "2             ስፖርት  በአጠቃላይ ክለቦቻቸውን ወክለውም 12 ሴትና 76 ወንድ ቦክሰኞች በጥቅሉ ...\n",
       "3             ስፖርት  ይኸውም ተወዳዳሪዎችና አሰልጣኞች የኮቪድ ምርመራ እንዲያደርጉና ከሌሎች ሰ...\n",
       "4             ስፖርት  ኮቪድ 19 ዓለም አቀፍ ወረርሽኝ እንደመሆኑ በመላው ዓለም ስፖርታዊ ውድድ...\n",
       "...            ...                                                ...\n",
       "154787        ፖለቲካ  በውይይታቸውም የዓለም የምግብ ፕሮግራም ለኢትዮጵያ የሚያደርገውን ድጋፍ አ...\n",
       "154788        ፖለቲካ               የጋምቤላ ክልል ፕሬስ ሴክሬታሪያት በላከልን መረጃ መሰረት\n",
       "154789        ፖለቲካ  አቶ አገኘሁ ተሻገር የአማራ ክልል የሰላም ግንባታና የህዝብ ደህንነት ቢሮ...\n",
       "154790  ሀገር አቀፍ ዜና                        ዘ ሄግ ኢንስቲቱዩት ፎር ኢኖቬሽን ኦፍ ሎው\n",
       "154791  ሀገር አቀፍ ዜና                     ከተባለ ድርጅት ጋራ በመተባበር የተሰጠው ነው፡፡\n",
       "\n",
       "[154792 rows x 2 columns]"
      ]
     },
     "execution_count": 4,
     "metadata": {},
     "output_type": "execute_result"
    }
   ],
   "source": [
    "import pandas as pd\n",
    "data = pd.read_csv(\"s3://10ac-batch-5/week9/Benkart/transcription_text.csv\")\n",
    "data"
   ]
  },
  {
   "cell_type": "markdown",
   "id": "e28584ce-524b-4e62-9017-f1b8254c5126",
   "metadata": {},
   "source": [
    "* Send some sentences as message to consumer"
   ]
  },
  {
   "cell_type": "code",
   "execution_count": 7,
   "id": "08f0e556-6f7e-43f4-8581-4dd3a60b0444",
   "metadata": {},
   "outputs": [],
   "source": [
    "producer = kf.create_producer()\n",
    "for i in range(10):\n",
    "    producer.send('Topic3', lis[i])\n",
    "    sleep(5)"
   ]
  },
  {
   "cell_type": "code",
   "execution_count": null,
   "id": "6f23aa19-2aec-4e36-8c06-21e7a13c83f5",
   "metadata": {},
   "outputs": [],
   "source": []
  }
 ],
 "metadata": {
  "kernelspec": {
   "display_name": "Python 3.10.4 ('myenv')",
   "language": "python",
   "name": "python3"
  },
  "language_info": {
   "codemirror_mode": {
    "name": "ipython",
    "version": 3
   },
   "file_extension": ".py",
   "mimetype": "text/x-python",
   "name": "python",
   "nbconvert_exporter": "python",
   "pygments_lexer": "ipython3",
   "version": "3.10.4"
  },
  "vscode": {
   "interpreter": {
    "hash": "e7bb8ef3d88a1ac336bb8a1c1971a69283f0042776ecf48f2967f505f7e60c36"
   }
  }
 },
 "nbformat": 4,
 "nbformat_minor": 5
}
