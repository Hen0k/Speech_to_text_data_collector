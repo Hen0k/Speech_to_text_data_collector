{
 "cells": [
  {
   "cell_type": "markdown",
   "id": "26b59faf-5565-4ea7-afff-49c784bcd12c",
   "metadata": {},
   "source": [
    "## Create Kafka topic in Kafka cluster"
   ]
  },
  {
   "cell_type": "code",
   "execution_count": 6,
   "id": "bd83b349-3d6e-4f18-8687-4ea062dcb40c",
   "metadata": {},
   "outputs": [],
   "source": [
    "from kafka.admin import KafkaAdminClient, NewTopic\n",
    "import pandas as pd\n",
    "import sys\n",
    "import os"
   ]
  },
  {
   "cell_type": "code",
   "execution_count": 7,
   "id": "81ec0a75",
   "metadata": {},
   "outputs": [],
   "source": [
    "sys.path.append(os.path.abspath(os.path.join('../scripts')))\n",
    "data = pd.read_csv(\"../data/transcription_text.csv\")"
   ]
  },
  {
   "cell_type": "code",
   "execution_count": 8,
   "id": "05a168ae",
   "metadata": {},
   "outputs": [
    {
     "data": {
      "text/plain": [
       "ሀገር አቀፍ ዜና    54860\n",
       "ስፖርት          54797\n",
       "መዝናኛ          17889\n",
       "ዓለም አቀፍ ዜና    12781\n",
       "ፖለቲካ          11508\n",
       "ቢዝነስ           2957\n",
       "Name: category, dtype: int64"
      ]
     },
     "execution_count": 8,
     "metadata": {},
     "output_type": "execute_result"
    }
   ],
   "source": [
    "data.category.value_counts()"
   ]
  },
  {
   "cell_type": "code",
   "execution_count": 9,
   "id": "ed2f3a63",
   "metadata": {},
   "outputs": [],
   "source": [
    "from all_kafka import AllKafka\n",
    "kf = AllKafka()\n"
   ]
  },
  {
   "cell_type": "code",
   "execution_count": 10,
   "id": "8d147a86",
   "metadata": {},
   "outputs": [
    {
     "data": {
      "text/plain": [
       "{'New Topics': ['Global_News', 'Local_News', 'Politics', 'Sport'],\n",
       " 'All Topics': ['Global_News', 'Local_News', 'Politics', 'Sport']}"
      ]
     },
     "execution_count": 10,
     "metadata": {},
     "output_type": "execute_result"
    }
   ],
   "source": [
    "topics = [\"Global_News\", \"Local_News\", \"Sport\", \"Politics\"]\n",
    "kf.create_topics(topics)"
   ]
  },
  {
   "cell_type": "code",
   "execution_count": 12,
   "id": "0d6e6778",
   "metadata": {},
   "outputs": [
    {
     "data": {
      "text/plain": [
       "{'New Topics': ['Business', 'Entertainment'],\n",
       " 'All Topics': ['Business',\n",
       "  'Entertainment',\n",
       "  'Global_News',\n",
       "  'Local_News',\n",
       "  'Politics',\n",
       "  'Sport']}"
      ]
     },
     "execution_count": 12,
     "metadata": {},
     "output_type": "execute_result"
    }
   ],
   "source": [
    "topics = [\"Business\", \"Entertainment\"]\n",
    "kf.create_topics(topics)"
   ]
  },
  {
   "cell_type": "code",
   "execution_count": null,
   "id": "f9f48767",
   "metadata": {},
   "outputs": [],
   "source": []
  }
 ],
 "metadata": {
  "kernelspec": {
   "display_name": "Python 3.10.4 ('myenv')",
   "language": "python",
   "name": "python3"
  },
  "language_info": {
   "codemirror_mode": {
    "name": "ipython",
    "version": 3
   },
   "file_extension": ".py",
   "mimetype": "text/x-python",
   "name": "python",
   "nbconvert_exporter": "python",
   "pygments_lexer": "ipython3",
   "version": "3.10.4"
  },
  "vscode": {
   "interpreter": {
    "hash": "e7bb8ef3d88a1ac336bb8a1c1971a69283f0042776ecf48f2967f505f7e60c36"
   }
  }
 },
 "nbformat": 4,
 "nbformat_minor": 5
}
