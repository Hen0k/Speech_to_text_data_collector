{
 "cells": [
  {
   "cell_type": "code",
   "execution_count": null,
   "id": "3120d207-6b62-42a5-823f-5e1c51954ac9",
   "metadata": {},
   "outputs": [],
   "source": [
    "from kafka import KafkaConsumer\n",
    "from json import loads\n",
    "import sys\n",
    "import os"
   ]
  },
  {
   "cell_type": "code",
   "execution_count": 1,
   "id": "8214b4bc-79f8-4749-8e0a-e86cffdd52c3",
   "metadata": {},
   "outputs": [],
   "source": [
    "sys.path.append(os.path.abspath(os.path.join('../scripts')))"
   ]
  },
  {
   "cell_type": "code",
   "execution_count": 2,
   "id": "5cde7256-7065-424b-aa23-0a804171920f",
   "metadata": {},
   "outputs": [],
   "source": [
    "from all_kafka import AllKafka\n",
    "kf = AllKafka()"
   ]
  },
  {
   "cell_type": "code",
   "execution_count": 3,
   "id": "658177e1-764e-4f2b-8ffd-a63fdf8e855e",
   "metadata": {},
   "outputs": [],
   "source": [
    "consumed = kf.create_consumer(\"Topic3\")"
   ]
  },
  {
   "cell_type": "markdown",
   "id": "79fd4ce5-b07b-4a0a-a99f-31d3c92405c5",
   "metadata": {},
   "source": [
    "* Displaying message received from producer"
   ]
  },
  {
   "cell_type": "code",
   "execution_count": 4,
   "id": "b87af4e2-93d4-41e0-821a-cb40491529be",
   "metadata": {},
   "outputs": [
    {
     "name": "stdout",
     "output_type": "stream",
     "text": [
      "ብርሃን ፈይሳየኢትዮጵያ ቦክስ ፌዴሬሽን በየዓመቱ የሚያዘጋጀው የክለቦች ቻምፒዮና በአዲስ አበባ ከተማ በመካሄድ ላይ ይገኛል\n",
      "የተሻለ ብቃት ያሳዩ ቦክሰኞች ለቶኪዮ ኦሊምፒክ ማጣሪያ ተሳታፊ እንደሚሆኑም ታውቋል\n",
      "በአጠቃላይ ክለቦቻቸውን ወክለውም 12 ሴትና 76 ወንድ ቦክሰኞች በጥቅሉ 88 ተወዳዳሪዎች ተሳታፊ ይሆናሉ\n",
      "ይኸውም ተወዳዳሪዎችና አሰልጣኞች የኮቪድ ምርመራ እንዲያደርጉና ከሌሎች ሰዎች ጋር እንዳይገናኙ በካምፕ እንዲቆዩ በማድረግ ነው\n",
      "ኮቪድ 19 ዓለም አቀፍ ወረርሽኝ እንደመሆኑ በመላው ዓለም ስፖርታዊ ውድድሮች ተቋርጠው መቆየታቸው የሚታወስ ነው\n",
      "ከእነዚህ ውድድሮች መካከል ለቶኪዮ 2020 ኦሊምፒክ የቦክስ ስፖርት ማጣሪያ የሚካሄደው ውድድር ይጠቀሳል\n",
      "ውድድሮች ወደ እንቅስቃሴ መግባታቸውን ተከትሎም ማጣሪያው የሚቀጥል ይሆናል\n",
      "ኢትዮጵያም በዚህ ቻምፒዮና (በመጀመሪያው ዙር) የተሻለ ብቃት ያሳዩ ቦክሰኞችን በማጣሪያው የምታሳትፍ መሆኑ ታውቋል\n",
      "ቻምፒዮናው ጥር 4/2013 ዓም የተጀመረ ሲሆን እስከ ጥር 7/2013 ዓም ድረስም ይቆያል\n",
      "የአዲስ ዘመን ጋዜጣ ቀደምት ዘገባዎች በእጅጉ ተነባቢ ዛሬም ላገኛቸው በእጅጉ ተነባቢ ናቸው\n"
     ]
    }
   ],
   "source": [
    "for message in consumed:\n",
    "    print(message.value)"
   ]
  },
  {
   "cell_type": "code",
   "execution_count": null,
   "id": "d8f1ee8a-d5ba-47f5-b507-a3b8eaad048e",
   "metadata": {},
   "outputs": [],
   "source": []
  }
 ],
 "metadata": {
  "kernelspec": {
   "display_name": "Python 3.10.4 ('myenv')",
   "language": "python",
   "name": "python3"
  },
  "language_info": {
   "codemirror_mode": {
    "name": "ipython",
    "version": 3
   },
   "file_extension": ".py",
   "mimetype": "text/x-python",
   "name": "python",
   "nbconvert_exporter": "python",
   "pygments_lexer": "ipython3",
   "version": "3.10.4"
  },
  "vscode": {
   "interpreter": {
    "hash": "e7bb8ef3d88a1ac336bb8a1c1971a69283f0042776ecf48f2967f505f7e60c36"
   }
  }
 },
 "nbformat": 4,
 "nbformat_minor": 5
}
