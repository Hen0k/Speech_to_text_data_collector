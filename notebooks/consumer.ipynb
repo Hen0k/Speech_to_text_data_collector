{
 "cells": [
  {
   "cell_type": "code",
   "execution_count": 9,
   "id": "3120d207-6b62-42a5-823f-5e1c51954ac9",
   "metadata": {},
   "outputs": [],
   "source": [
    "from kafka import KafkaConsumer\n",
    "from json import loads"
   ]
  },
  {
   "cell_type": "code",
   "execution_count": 10,
   "id": "e9d311dd-675e-4a57-8aaa-e2bed90d68fd",
   "metadata": {},
   "outputs": [],
   "source": [
    "def create_consumer(topic):\n",
    "    consumer = KafkaConsumer(topic,\n",
    "                             bootstrap_servers='localhost:9092',\n",
    "                         value_deserializer=lambda x: loads(x.decode('utf-8')))\n",
    "    return consumer"
   ]
  },
  {
   "cell_type": "code",
   "execution_count": 11,
   "id": "658177e1-764e-4f2b-8ffd-a63fdf8e855e",
   "metadata": {},
   "outputs": [],
   "source": [
    "consumed = create_consumer(\"Topic3\")"
   ]
  },
  {
   "cell_type": "code",
   "execution_count": null,
   "id": "b87af4e2-93d4-41e0-821a-cb40491529be",
   "metadata": {},
   "outputs": [
    {
     "name": "stdout",
     "output_type": "stream",
     "text": [
      "ጥሩ የሚሆነው የለም እንዲያ አይደለም ተሳስተሀል ተብዬ የናንተን ደግሞ ባዳምጥ ስለሆነ ተነጋገሩበት የሀገር ጉዳይ በአደባባይ እንዲህ ወጥቶ ብንነጋገርበት ወደ ጥሩ\n",
      "\n",
      "00 ክሳብ 12\n",
      "\n",
      "በተመለከተ እን ቅስቃሴዎችን ያደረገ ሲሆን በዚህ በፀረ ሙስና ትግሉ የህብረተሰቡ ተሳትፎ ለስራው ፍጥነት ተጠቃሽ ነው ከዚህ አኳያ ሁለት ጥቆማዎችንና አቤቱታዎችን\n",
      "\n",
      "አለም አቀፍ የታክስ ተቋም የመቋቋም ሀሳብ በአለም ታዋቂ በሆኑ በላይ ሲቪክ ማሀበራት ከፍተኛ ተቀባይነትን በማግኘቱ ሀያላን አገሮች እንዲቀበሉትም ሲቪክ ማሀበራቱ\n",
      "\n",
      "57 የብድር መረጃ ልውውጥ ስርአት ብሄራዊ ባንክ በባንኮች መካከል የሚደረግ የብድር መረጃ ልውውጥ ስርአት ስለሚደራጅበት ሁኔታ፣ ስለአሰራሩና የወጪ መጋራት መመሪያ ሊያወጣ ይችላል\n",
      "\n"
     ]
    }
   ],
   "source": [
    "for message in consumed:\n",
    "    print(message.value)"
   ]
  },
  {
   "cell_type": "code",
   "execution_count": null,
   "id": "d8f1ee8a-d5ba-47f5-b507-a3b8eaad048e",
   "metadata": {},
   "outputs": [],
   "source": []
  }
 ],
 "metadata": {
  "kernelspec": {
   "display_name": "Python 3 (ipykernel)",
   "language": "python",
   "name": "python3"
  },
  "language_info": {
   "codemirror_mode": {
    "name": "ipython",
    "version": 3
   },
   "file_extension": ".py",
   "mimetype": "text/x-python",
   "name": "python",
   "nbconvert_exporter": "python",
   "pygments_lexer": "ipython3",
   "version": "3.10.5"
  }
 },
 "nbformat": 4,
 "nbformat_minor": 5
}
