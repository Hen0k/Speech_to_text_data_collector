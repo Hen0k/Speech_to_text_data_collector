{
 "cells": [
  {
   "cell_type": "code",
   "execution_count": 6,
   "id": "3120d207-6b62-42a5-823f-5e1c51954ac9",
   "metadata": {},
   "outputs": [],
   "source": [
    "from kafka import KafkaConsumer\n",
    "from json import loads\n",
    "import sys\n",
    "import os"
   ]
  },
  {
   "cell_type": "code",
   "execution_count": 7,
   "id": "8214b4bc-79f8-4749-8e0a-e86cffdd52c3",
   "metadata": {},
   "outputs": [],
   "source": [
    "sys.path.append(os.path.abspath(os.path.join('../scripts')))"
   ]
  },
  {
   "cell_type": "code",
   "execution_count": 8,
   "id": "5cde7256-7065-424b-aa23-0a804171920f",
   "metadata": {},
   "outputs": [],
   "source": [
    "from all_kafka import AllKafka\n",
    "kf = AllKafka()"
   ]
  },
  {
   "cell_type": "code",
   "execution_count": 9,
   "id": "658177e1-764e-4f2b-8ffd-a63fdf8e855e",
   "metadata": {},
   "outputs": [],
   "source": [
    "consumed = kf.create_consumer(\"Topic3\")"
   ]
  },
  {
   "cell_type": "markdown",
   "id": "79fd4ce5-b07b-4a0a-a99f-31d3c92405c5",
   "metadata": {},
   "source": [
    "* Displaying message received from producer"
   ]
  },
  {
   "cell_type": "code",
   "execution_count": null,
   "id": "b87af4e2-93d4-41e0-821a-cb40491529be",
   "metadata": {},
   "outputs": [
    {
     "name": "stdout",
     "output_type": "stream",
     "text": [
      "እግዚአብሄርን ስናመልከው ከሁኔታችን እንወጣለን\n",
      "\n",
      "ጥሩ የሚሆነው የለም እንዲያ አይደለም ተሳስተሀል ተብዬ የናንተን ደግሞ ባዳምጥ ስለሆነ ተነጋገሩበት የሀገር ጉዳይ በአደባባይ እንዲህ ወጥቶ ብንነጋገርበት ወደ ጥሩ\n",
      "\n",
      "00 ክሳብ 12\n",
      "\n"
     ]
    }
   ],
   "source": [
    "for message in consumed:\n",
    "    print(message.value)"
   ]
  },
  {
   "cell_type": "code",
   "execution_count": null,
   "id": "d8f1ee8a-d5ba-47f5-b507-a3b8eaad048e",
   "metadata": {},
   "outputs": [],
   "source": []
  }
 ],
 "metadata": {
  "kernelspec": {
   "display_name": "Python 3 (ipykernel)",
   "language": "python",
   "name": "python3"
  },
  "language_info": {
   "codemirror_mode": {
    "name": "ipython",
    "version": 3
   },
   "file_extension": ".py",
   "mimetype": "text/x-python",
   "name": "python",
   "nbconvert_exporter": "python",
   "pygments_lexer": "ipython3",
   "version": "3.10.5"
  }
 },
 "nbformat": 4,
 "nbformat_minor": 5
}
